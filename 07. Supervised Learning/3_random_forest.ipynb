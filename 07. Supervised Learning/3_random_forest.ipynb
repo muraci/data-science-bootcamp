{
 "cells": [
  {
   "cell_type": "markdown",
   "metadata": {},
   "source": [
    "# __YÜKSEK DAYANIMLI BETON__"
   ]
  },
  {
   "cell_type": "code",
   "execution_count": 1,
   "metadata": {},
   "outputs": [],
   "source": [
    "import pandas as pd\n",
    "import numpy as np\n",
    "import matplotlib.pyplot as plt\n",
    "import seaborn as sns\n",
    "import warnings\n",
    "\n",
    "warnings.filterwarnings('ignore')\n",
    "pd.set_option(\"display.float_format\", \"{:.3f}\".format)\n",
    "sns.set()"
   ]
  },
  {
   "cell_type": "code",
   "execution_count": 2,
   "metadata": {},
   "outputs": [],
   "source": [
    "cc = pd.read_csv('concrete_clean.csv')"
   ]
  },
  {
   "cell_type": "code",
   "execution_count": 5,
   "metadata": {},
   "outputs": [
    {
     "data": {
      "text/html": [
       "<div>\n",
       "<style scoped>\n",
       "    .dataframe tbody tr th:only-of-type {\n",
       "        vertical-align: middle;\n",
       "    }\n",
       "\n",
       "    .dataframe tbody tr th {\n",
       "        vertical-align: top;\n",
       "    }\n",
       "\n",
       "    .dataframe thead th {\n",
       "        text-align: right;\n",
       "    }\n",
       "</style>\n",
       "<table border=\"1\" class=\"dataframe\">\n",
       "  <thead>\n",
       "    <tr style=\"text-align: right;\">\n",
       "      <th></th>\n",
       "      <th>Cement</th>\n",
       "      <th>Slag</th>\n",
       "      <th>FlyAsh</th>\n",
       "      <th>Water</th>\n",
       "      <th>SPs</th>\n",
       "      <th>CoarseAgg</th>\n",
       "      <th>FineAgg</th>\n",
       "      <th>WC</th>\n",
       "      <th>Day</th>\n",
       "      <th>Strength</th>\n",
       "    </tr>\n",
       "  </thead>\n",
       "  <tbody>\n",
       "    <tr>\n",
       "      <th>0</th>\n",
       "      <td>540.000</td>\n",
       "      <td>0.000</td>\n",
       "      <td>0.000</td>\n",
       "      <td>162.000</td>\n",
       "      <td>2.500</td>\n",
       "      <td>1040.000</td>\n",
       "      <td>676.000</td>\n",
       "      <td>0.300</td>\n",
       "      <td>28</td>\n",
       "      <td>79.986</td>\n",
       "    </tr>\n",
       "    <tr>\n",
       "      <th>1</th>\n",
       "      <td>540.000</td>\n",
       "      <td>0.000</td>\n",
       "      <td>0.000</td>\n",
       "      <td>162.000</td>\n",
       "      <td>2.500</td>\n",
       "      <td>1055.000</td>\n",
       "      <td>676.000</td>\n",
       "      <td>0.300</td>\n",
       "      <td>28</td>\n",
       "      <td>61.887</td>\n",
       "    </tr>\n",
       "    <tr>\n",
       "      <th>2</th>\n",
       "      <td>332.500</td>\n",
       "      <td>142.500</td>\n",
       "      <td>0.000</td>\n",
       "      <td>228.000</td>\n",
       "      <td>0.000</td>\n",
       "      <td>932.000</td>\n",
       "      <td>594.000</td>\n",
       "      <td>0.686</td>\n",
       "      <td>90</td>\n",
       "      <td>40.270</td>\n",
       "    </tr>\n",
       "  </tbody>\n",
       "</table>\n",
       "</div>"
      ],
      "text/plain": [
       "   Cement    Slag  FlyAsh   Water   SPs  CoarseAgg  FineAgg    WC  Day  \\\n",
       "0 540.000   0.000   0.000 162.000 2.500   1040.000  676.000 0.300   28   \n",
       "1 540.000   0.000   0.000 162.000 2.500   1055.000  676.000 0.300   28   \n",
       "2 332.500 142.500   0.000 228.000 0.000    932.000  594.000 0.686   90   \n",
       "\n",
       "   Strength  \n",
       "0    79.986  \n",
       "1    61.887  \n",
       "2    40.270  "
      ]
     },
     "execution_count": 5,
     "metadata": {},
     "output_type": "execute_result"
    }
   ],
   "source": [
    "cc.head(3)"
   ]
  },
  {
   "cell_type": "code",
   "execution_count": 10,
   "metadata": {},
   "outputs": [],
   "source": [
    "from sklearn.preprocessing import StandardScaler\n",
    "from sklearn.model_selection import train_test_split, cross_val_score, GridSearchCV, KFold\n",
    "from sklearn.ensemble import RandomForestRegressor, RandomForestClassifier\n",
    "from sklearn.metrics import mean_squared_error as MSE"
   ]
  },
  {
   "cell_type": "code",
   "execution_count": 6,
   "metadata": {},
   "outputs": [],
   "source": [
    "Y = cc['Strength']\n",
    "X = cc.drop(['Strength'], axis=1)"
   ]
  },
  {
   "cell_type": "code",
   "execution_count": 7,
   "metadata": {},
   "outputs": [],
   "source": [
    "x_train, x_test, y_train, y_test = train_test_split(X, Y, test_size = 0.2, random_state = 42)\n",
    "\n",
    "standardscaler = StandardScaler()\n",
    "x_train = standardscaler.fit_transform(x_train)\n",
    "x_test = standardscaler.transform(x_test)"
   ]
  },
  {
   "cell_type": "code",
   "execution_count": 30,
   "metadata": {},
   "outputs": [],
   "source": [
    "k_range = np.arange(10, 100, 5)\n",
    "test_score, test_rsme = np.empty(len(k_range)), np.empty(len(k_range))\n",
    "\n",
    "for i, k in enumerate(k_range):\n",
    "    randomForest = RandomForestRegressor(n_estimators = k, random_state = 42)\n",
    "    randomForest.fit(x_train, y_train) \n",
    "    y_pred = randomForest.predict(x_test)\n",
    "    test_score[i] = randomForest.score(x_test, y_test)\n",
    "    test_rsme[i] = MSE(y_test, y_pred)**(1/2)"
   ]
  },
  {
   "cell_type": "code",
   "execution_count": 34,
   "metadata": {},
   "outputs": [
    {
     "data": {
      "image/png": "[encoded data removed]",
      "text/plain": [
       "<Figure size 1080x216 with 2 Axes>"
      ]
     },
     "metadata": {},
     "output_type": "display_data"
    }
   ],
   "source": [
    "plt.figure(figsize=(15,3))\n",
    "#score\n",
    "plt.subplot(1, 2, 1)\n",
    "plt.plot(k_range, test_score)\n",
    "plt.xlabel('n_estimators')\n",
    "plt.ylabel('score')\n",
    "#rsme\n",
    "plt.subplot(1, 2, 2)\n",
    "plt.plot(k_range, test_rsme)\n",
    "plt.xlabel('n_estimators')\n",
    "plt.ylabel('rsme')\n",
    "plt.show()"
   ]
  },
  {
   "cell_type": "markdown",
   "metadata": {},
   "source": [
    "### Parametreler"
   ]
  },
  {
   "cell_type": "code",
   "execution_count": 37,
   "metadata": {},
   "outputs": [],
   "source": [
    "randomForest = RandomForestRegressor()\n",
    "params = {'criterion': ['mse', 'mae'], 'n_estimators': np.arange(40, 80, 5)}"
   ]
  },
  {
   "cell_type": "code",
   "execution_count": 38,
   "metadata": {},
   "outputs": [],
   "source": [
    "k_fold = KFold(n_splits = 5, shuffle = True, random_state = 42)\n",
    "gridcv_results = GridSearchCV(estimator = randomForest, param_grid = params, cv = k_fold).fit(X, Y)"
   ]
  },
  {
   "cell_type": "code",
   "execution_count": 39,
   "metadata": {},
   "outputs": [
    {
     "data": {
      "text/plain": [
       "{'criterion': 'mae', 'n_estimators': 75}"
      ]
     },
     "execution_count": 39,
     "metadata": {},
     "output_type": "execute_result"
    }
   ],
   "source": [
    "gridcv_results.best_params_"
   ]
  },
  {
   "cell_type": "code",
   "execution_count": 40,
   "metadata": {},
   "outputs": [
    {
     "data": {
      "text/html": [
       "<div>\n",
       "<style scoped>\n",
       "    .dataframe tbody tr th:only-of-type {\n",
       "        vertical-align: middle;\n",
       "    }\n",
       "\n",
       "    .dataframe tbody tr th {\n",
       "        vertical-align: top;\n",
       "    }\n",
       "\n",
       "    .dataframe thead th {\n",
       "        text-align: right;\n",
       "    }\n",
       "</style>\n",
       "<table border=\"1\" class=\"dataframe\">\n",
       "  <thead>\n",
       "    <tr style=\"text-align: right;\">\n",
       "      <th></th>\n",
       "      <th>mean_fit_time</th>\n",
       "      <th>param_criterion</th>\n",
       "      <th>param_n_estimators</th>\n",
       "      <th>mean_test_score</th>\n",
       "    </tr>\n",
       "  </thead>\n",
       "  <tbody>\n",
       "    <tr>\n",
       "      <th>15</th>\n",
       "      <td>3.33543</td>\n",
       "      <td>mae</td>\n",
       "      <td>75</td>\n",
       "      <td>0.91371</td>\n",
       "    </tr>\n",
       "    <tr>\n",
       "      <th>12</th>\n",
       "      <td>2.73438</td>\n",
       "      <td>mae</td>\n",
       "      <td>60</td>\n",
       "      <td>0.91364</td>\n",
       "    </tr>\n",
       "    <tr>\n",
       "      <th>1</th>\n",
       "      <td>0.25224</td>\n",
       "      <td>mse</td>\n",
       "      <td>45</td>\n",
       "      <td>0.91357</td>\n",
       "    </tr>\n",
       "    <tr>\n",
       "      <th>13</th>\n",
       "      <td>2.68542</td>\n",
       "      <td>mae</td>\n",
       "      <td>65</td>\n",
       "      <td>0.91268</td>\n",
       "    </tr>\n",
       "    <tr>\n",
       "      <th>10</th>\n",
       "      <td>2.35581</td>\n",
       "      <td>mae</td>\n",
       "      <td>50</td>\n",
       "      <td>0.91236</td>\n",
       "    </tr>\n",
       "  </tbody>\n",
       "</table>\n",
       "</div>"
      ],
      "text/plain": [
       "    mean_fit_time param_criterion param_n_estimators  mean_test_score\n",
       "15        3.33543             mae                 75          0.91371\n",
       "12        2.73438             mae                 60          0.91364\n",
       "1         0.25224             mse                 45          0.91357\n",
       "13        2.68542             mae                 65          0.91268\n",
       "10        2.35581             mae                 50          0.91236"
      ]
     },
     "execution_count": 40,
     "metadata": {},
     "output_type": "execute_result"
    }
   ],
   "source": [
    "pd.set_option(\"display.float_format\", \"{:.5f}\".format)\n",
    "grid_cv = pd.DataFrame(gridcv_results.cv_results_)\n",
    "grid_cv = grid_cv[['mean_fit_time', 'param_criterion', 'param_n_estimators', 'mean_test_score']]\n",
    "grid_cv = grid_cv.sort_values(by='mean_test_score', ascending = False)\n",
    "grid_cv.head(5)"
   ]
  },
  {
   "cell_type": "markdown",
   "metadata": {},
   "source": [
    "# __BANKA KAMPANYASI__"
   ]
  },
  {
   "cell_type": "code",
   "execution_count": 41,
   "metadata": {},
   "outputs": [],
   "source": [
    "bk = pd.read_csv('bank_clean.csv')"
   ]
  },
  {
   "cell_type": "code",
   "execution_count": 42,
   "metadata": {},
   "outputs": [
    {
     "data": {
      "text/html": [
       "<div>\n",
       "<style scoped>\n",
       "    .dataframe tbody tr th:only-of-type {\n",
       "        vertical-align: middle;\n",
       "    }\n",
       "\n",
       "    .dataframe tbody tr th {\n",
       "        vertical-align: top;\n",
       "    }\n",
       "\n",
       "    .dataframe thead th {\n",
       "        text-align: right;\n",
       "    }\n",
       "</style>\n",
       "<table border=\"1\" class=\"dataframe\">\n",
       "  <thead>\n",
       "    <tr style=\"text-align: right;\">\n",
       "      <th></th>\n",
       "      <th>age</th>\n",
       "      <th>campaign</th>\n",
       "      <th>pdays</th>\n",
       "      <th>previous</th>\n",
       "      <th>emp.var.rate</th>\n",
       "      <th>cons.price.idx</th>\n",
       "      <th>cons.conf.idx</th>\n",
       "      <th>euribor3m</th>\n",
       "      <th>nr.employed</th>\n",
       "      <th>job_blue-collar</th>\n",
       "      <th>...</th>\n",
       "      <th>month_sep</th>\n",
       "      <th>day_of_week_fri</th>\n",
       "      <th>day_of_week_mon</th>\n",
       "      <th>day_of_week_thu</th>\n",
       "      <th>day_of_week_tue</th>\n",
       "      <th>day_of_week_wed</th>\n",
       "      <th>poutcome_failure</th>\n",
       "      <th>poutcome_nonexistent</th>\n",
       "      <th>poutcome_success</th>\n",
       "      <th>y_yes</th>\n",
       "    </tr>\n",
       "  </thead>\n",
       "  <tbody>\n",
       "    <tr>\n",
       "      <th>0</th>\n",
       "      <td>4</td>\n",
       "      <td>1</td>\n",
       "      <td>0</td>\n",
       "      <td>0</td>\n",
       "      <td>1.10000</td>\n",
       "      <td>94.00000</td>\n",
       "      <td>-36.00000</td>\n",
       "      <td>5.00000</td>\n",
       "      <td>5191.00000</td>\n",
       "      <td>0</td>\n",
       "      <td>...</td>\n",
       "      <td>0</td>\n",
       "      <td>0</td>\n",
       "      <td>1</td>\n",
       "      <td>0</td>\n",
       "      <td>0</td>\n",
       "      <td>0</td>\n",
       "      <td>0</td>\n",
       "      <td>1</td>\n",
       "      <td>0</td>\n",
       "      <td>0</td>\n",
       "    </tr>\n",
       "    <tr>\n",
       "      <th>1</th>\n",
       "      <td>4</td>\n",
       "      <td>1</td>\n",
       "      <td>0</td>\n",
       "      <td>0</td>\n",
       "      <td>1.10000</td>\n",
       "      <td>94.00000</td>\n",
       "      <td>-36.00000</td>\n",
       "      <td>5.00000</td>\n",
       "      <td>5191.00000</td>\n",
       "      <td>0</td>\n",
       "      <td>...</td>\n",
       "      <td>0</td>\n",
       "      <td>0</td>\n",
       "      <td>1</td>\n",
       "      <td>0</td>\n",
       "      <td>0</td>\n",
       "      <td>0</td>\n",
       "      <td>0</td>\n",
       "      <td>1</td>\n",
       "      <td>0</td>\n",
       "      <td>0</td>\n",
       "    </tr>\n",
       "    <tr>\n",
       "      <th>2</th>\n",
       "      <td>2</td>\n",
       "      <td>1</td>\n",
       "      <td>0</td>\n",
       "      <td>0</td>\n",
       "      <td>1.10000</td>\n",
       "      <td>94.00000</td>\n",
       "      <td>-36.00000</td>\n",
       "      <td>5.00000</td>\n",
       "      <td>5191.00000</td>\n",
       "      <td>0</td>\n",
       "      <td>...</td>\n",
       "      <td>0</td>\n",
       "      <td>0</td>\n",
       "      <td>1</td>\n",
       "      <td>0</td>\n",
       "      <td>0</td>\n",
       "      <td>0</td>\n",
       "      <td>0</td>\n",
       "      <td>1</td>\n",
       "      <td>0</td>\n",
       "      <td>0</td>\n",
       "    </tr>\n",
       "  </tbody>\n",
       "</table>\n",
       "<p>3 rows × 44 columns</p>\n",
       "</div>"
      ],
      "text/plain": [
       "   age  campaign  pdays  previous  emp.var.rate  cons.price.idx  \\\n",
       "0    4         1      0         0       1.10000        94.00000   \n",
       "1    4         1      0         0       1.10000        94.00000   \n",
       "2    2         1      0         0       1.10000        94.00000   \n",
       "\n",
       "   cons.conf.idx  euribor3m  nr.employed  job_blue-collar  ...  month_sep  \\\n",
       "0      -36.00000    5.00000   5191.00000                0  ...          0   \n",
       "1      -36.00000    5.00000   5191.00000                0  ...          0   \n",
       "2      -36.00000    5.00000   5191.00000                0  ...          0   \n",
       "\n",
       "   day_of_week_fri  day_of_week_mon  day_of_week_thu  day_of_week_tue  \\\n",
       "0                0                1                0                0   \n",
       "1                0                1                0                0   \n",
       "2                0                1                0                0   \n",
       "\n",
       "   day_of_week_wed  poutcome_failure  poutcome_nonexistent  poutcome_success  \\\n",
       "0                0                 0                     1                 0   \n",
       "1                0                 0                     1                 0   \n",
       "2                0                 0                     1                 0   \n",
       "\n",
       "   y_yes  \n",
       "0      0  \n",
       "1      0  \n",
       "2      0  \n",
       "\n",
       "[3 rows x 44 columns]"
      ]
     },
     "execution_count": 42,
     "metadata": {},
     "output_type": "execute_result"
    }
   ],
   "source": [
    "bk.head(3)"
   ]
  },
  {
   "cell_type": "code",
   "execution_count": 43,
   "metadata": {},
   "outputs": [],
   "source": [
    "Y = bk['y_yes']\n",
    "X = bk.drop(['y_yes'], axis=1)"
   ]
  },
  {
   "cell_type": "code",
   "execution_count": 44,
   "metadata": {},
   "outputs": [],
   "source": [
    "x_train, x_test, y_train, y_test = train_test_split(X, Y, test_size = 0.2, random_state = 42)\n",
    "\n",
    "standardscaler = StandardScaler()\n",
    "x_train = standardscaler.fit_transform(x_train)\n",
    "x_test = standardscaler.transform(x_test)"
   ]
  },
  {
   "cell_type": "code",
   "execution_count": 49,
   "metadata": {},
   "outputs": [],
   "source": [
    "k_range = np.arange(10, 100, 5)\n",
    "test_score, test_rsme = np.empty(len(k_range)), np.empty(len(k_range))\n",
    "\n",
    "for i, k in enumerate(k_range):\n",
    "    randomForest = RandomForestClassifier(n_estimators = k, random_state = 42)\n",
    "    randomForest.fit(x_train, y_train) \n",
    "    y_pred = randomForest.predict(x_test)\n",
    "    test_score[i] = randomForest.score(x_test, y_test)\n",
    "    test_rsme[i] = MSE(y_test, y_pred)**(1/2)"
   ]
  },
  {
   "cell_type": "code",
   "execution_count": 50,
   "metadata": {},
   "outputs": [
    {
     "data": {
      "image/png": "[encoded data removed]",
      "text/plain": [
       "<Figure size 1080x216 with 2 Axes>"
      ]
     },
     "metadata": {},
     "output_type": "display_data"
    }
   ],
   "source": [
    "plt.figure(figsize=(15,3))\n",
    "#score\n",
    "plt.subplot(1, 2, 1)\n",
    "plt.plot(k_range, test_score)\n",
    "plt.xlabel('n_estimators')\n",
    "plt.ylabel('score')\n",
    "#rsme\n",
    "plt.subplot(1, 2, 2)\n",
    "plt.plot(k_range, test_rsme)\n",
    "plt.xlabel('n_estimators')\n",
    "plt.ylabel('rsme')\n",
    "plt.show()"
   ]
  },
  {
   "cell_type": "markdown",
   "metadata": {},
   "source": [
    "### Parametreler"
   ]
  },
  {
   "cell_type": "code",
   "execution_count": 51,
   "metadata": {},
   "outputs": [],
   "source": [
    "randomForest = RandomForestClassifier()\n",
    "params = {'n_estimators': np.arange(50, 300, 50), 'max_features': ['auto', 'sqrt', 'log2']}"
   ]
  },
  {
   "cell_type": "code",
   "execution_count": 53,
   "metadata": {},
   "outputs": [],
   "source": [
    "k_fold = KFold(n_splits = 5, shuffle = True, random_state = 42)\n",
    "gridcv_results = GridSearchCV(estimator = randomForest, param_grid = params, cv = k_fold).fit(X, Y)"
   ]
  },
  {
   "cell_type": "code",
   "execution_count": 54,
   "metadata": {},
   "outputs": [
    {
     "data": {
      "text/plain": [
       "{'max_features': 'log2', 'n_estimators': 250}"
      ]
     },
     "execution_count": 54,
     "metadata": {},
     "output_type": "execute_result"
    }
   ],
   "source": [
    "gridcv_results.best_params_"
   ]
  },
  {
   "cell_type": "code",
   "execution_count": 58,
   "metadata": {},
   "outputs": [
    {
     "data": {
      "text/html": [
       "<div>\n",
       "<style scoped>\n",
       "    .dataframe tbody tr th:only-of-type {\n",
       "        vertical-align: middle;\n",
       "    }\n",
       "\n",
       "    .dataframe tbody tr th {\n",
       "        vertical-align: top;\n",
       "    }\n",
       "\n",
       "    .dataframe thead th {\n",
       "        text-align: right;\n",
       "    }\n",
       "</style>\n",
       "<table border=\"1\" class=\"dataframe\">\n",
       "  <thead>\n",
       "    <tr style=\"text-align: right;\">\n",
       "      <th></th>\n",
       "      <th>mean_fit_time</th>\n",
       "      <th>param_max_features</th>\n",
       "      <th>param_n_estimators</th>\n",
       "      <th>mean_test_score</th>\n",
       "    </tr>\n",
       "  </thead>\n",
       "  <tbody>\n",
       "    <tr>\n",
       "      <th>14</th>\n",
       "      <td>8.31118</td>\n",
       "      <td>log2</td>\n",
       "      <td>250</td>\n",
       "      <td>0.88644</td>\n",
       "    </tr>\n",
       "    <tr>\n",
       "      <th>4</th>\n",
       "      <td>10.14442</td>\n",
       "      <td>auto</td>\n",
       "      <td>250</td>\n",
       "      <td>0.88639</td>\n",
       "    </tr>\n",
       "    <tr>\n",
       "      <th>3</th>\n",
       "      <td>7.77255</td>\n",
       "      <td>auto</td>\n",
       "      <td>200</td>\n",
       "      <td>0.88623</td>\n",
       "    </tr>\n",
       "    <tr>\n",
       "      <th>9</th>\n",
       "      <td>11.47696</td>\n",
       "      <td>sqrt</td>\n",
       "      <td>250</td>\n",
       "      <td>0.88616</td>\n",
       "    </tr>\n",
       "    <tr>\n",
       "      <th>13</th>\n",
       "      <td>7.15024</td>\n",
       "      <td>log2</td>\n",
       "      <td>200</td>\n",
       "      <td>0.88596</td>\n",
       "    </tr>\n",
       "  </tbody>\n",
       "</table>\n",
       "</div>"
      ],
      "text/plain": [
       "    mean_fit_time param_max_features param_n_estimators  mean_test_score\n",
       "14        8.31118               log2                250          0.88644\n",
       "4        10.14442               auto                250          0.88639\n",
       "3         7.77255               auto                200          0.88623\n",
       "9        11.47696               sqrt                250          0.88616\n",
       "13        7.15024               log2                200          0.88596"
      ]
     },
     "execution_count": 58,
     "metadata": {},
     "output_type": "execute_result"
    }
   ],
   "source": [
    "pd.set_option(\"display.float_format\", \"{:.5f}\".format)\n",
    "grid_cv = pd.DataFrame(gridcv_results.cv_results_)\n",
    "grid_cv = grid_cv[['mean_fit_time', 'param_max_features', 'param_n_estimators', 'mean_test_score']]\n",
    "grid_cv = grid_cv.sort_values(by='mean_test_score', ascending = False)\n",
    "grid_cv.head(5)"
   ]
  },
  {
   "cell_type": "markdown",
   "metadata": {},
   "source": [
    "### Karşılaştırmlar"
   ]
  },
  {
   "cell_type": "code",
   "execution_count": 59,
   "metadata": {},
   "outputs": [],
   "source": [
    "from imblearn.over_sampling import SMOTE, ADASYN\n",
    "from sklearn.metrics import accuracy_score, precision_score, recall_score, f1_score, roc_auc_score"
   ]
  },
  {
   "cell_type": "code",
   "execution_count": 60,
   "metadata": {},
   "outputs": [],
   "source": [
    "def modelFrame(X, Y, idx):\n",
    "    x_train, x_test, y_train, y_test = train_test_split(X, Y, test_size = 0.2, random_state = 42)\n",
    "    \n",
    "    standardscaler = StandardScaler()\n",
    "    x_train = standardscaler.fit_transform(x_train)\n",
    "    x_test = standardscaler.transform(x_test)\n",
    "    \n",
    "    k_fold = KFold(n_splits = 5, shuffle = True, random_state = 42)\n",
    "    model = randomForest = RandomForestClassifier(max_features = 'log2', n_estimators = 250).fit(x_train, y_train)\n",
    "\n",
    "    y_pred = model.predict(x_test)\n",
    "    y_prob = model.predict_proba(x_test)[:,1]\n",
    "\n",
    "    df = pd.Series({'accuracy': accuracy_score(y_test,y_pred),\n",
    "                    'precision' :precision_score(y_test,y_pred),\n",
    "                    'recall': recall_score(y_test,y_pred),\n",
    "                    'f1-score': f1_score(y_test,y_pred),\n",
    "                    'auc-roc': roc_auc_score(y_test, y_prob),\n",
    "                    'cross-val': cross_val_score(estimator = RandomForestClassifier(max_features = 'log2', n_estimators = 250),\n",
    "                                             X = X, y = Y, cv = k_fold).mean()}, name = idx)\n",
    "    return df"
   ]
  },
  {
   "cell_type": "code",
   "execution_count": 61,
   "metadata": {},
   "outputs": [
    {
     "data": {
      "text/html": [
       "<div>\n",
       "<style scoped>\n",
       "    .dataframe tbody tr th:only-of-type {\n",
       "        vertical-align: middle;\n",
       "    }\n",
       "\n",
       "    .dataframe tbody tr th {\n",
       "        vertical-align: top;\n",
       "    }\n",
       "\n",
       "    .dataframe thead th {\n",
       "        text-align: right;\n",
       "    }\n",
       "</style>\n",
       "<table border=\"1\" class=\"dataframe\">\n",
       "  <thead>\n",
       "    <tr style=\"text-align: right;\">\n",
       "      <th></th>\n",
       "      <th>cross-val</th>\n",
       "      <th>accuracy</th>\n",
       "      <th>precision</th>\n",
       "      <th>recall</th>\n",
       "      <th>f1-score</th>\n",
       "      <th>auc-roc</th>\n",
       "    </tr>\n",
       "  </thead>\n",
       "  <tbody>\n",
       "    <tr>\n",
       "      <th>rfc</th>\n",
       "      <td>0.88692</td>\n",
       "      <td>0.89384</td>\n",
       "      <td>0.51789</td>\n",
       "      <td>0.28671</td>\n",
       "      <td>0.36909</td>\n",
       "      <td>0.76625</td>\n",
       "    </tr>\n",
       "    <tr>\n",
       "      <th>smote</th>\n",
       "      <td>0.90111</td>\n",
       "      <td>0.89518</td>\n",
       "      <td>0.88143</td>\n",
       "      <td>0.91301</td>\n",
       "      <td>0.89694</td>\n",
       "      <td>0.96009</td>\n",
       "    </tr>\n",
       "  </tbody>\n",
       "</table>\n",
       "</div>"
      ],
      "text/plain": [
       "       cross-val  accuracy  precision  recall  f1-score  auc-roc\n",
       "rfc      0.88692   0.89384    0.51789 0.28671   0.36909  0.76625\n",
       "smote    0.90111   0.89518    0.88143 0.91301   0.89694  0.96009"
      ]
     },
     "execution_count": 61,
     "metadata": {},
     "output_type": "execute_result"
    }
   ],
   "source": [
    "dfModel = pd.DataFrame(columns = ['cross-val', 'accuracy', 'precision', 'recall', 'f1-score', 'auc-roc'])\n",
    "\n",
    "Y = bk['y_yes']\n",
    "X = bk.drop(['y_yes'], axis=1)\n",
    "dfModel = dfModel.append(modelFrame(X, Y, 'rfc'))\n",
    "\n",
    "x_smote, y_smote = SMOTE(random_state = 42).fit_sample(X, Y)\n",
    "dfModel = dfModel.append(modelFrame(x_smote, y_smote, 'smote'))\n",
    "\n",
    "dfModel"
   ]
  }
 ],
 "metadata": {
  "kernelspec": {
   "display_name": "Python 3",
   "language": "python",
   "name": "python3"
  },
  "language_info": {
   "codemirror_mode": {
    "name": "ipython",
    "version": 3
   },
   "file_extension": ".py",
   "mimetype": "text/x-python",
   "name": "python",
   "nbconvert_exporter": "python",
   "pygments_lexer": "ipython3",
   "version": "3.7.7"
  }
 },
 "nbformat": 4,
 "nbformat_minor": 4
}
