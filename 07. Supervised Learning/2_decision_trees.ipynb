{
 "cells": [
  {
   "cell_type": "markdown",
   "metadata": {},
   "source": [
    "# __YÜKSEK DAYANIMLI BETON__"
   ]
  },
  {
   "cell_type": "code",
   "execution_count": 4,
   "metadata": {},
   "outputs": [],
   "source": [
    "import pandas as pd\n",
    "import numpy as np\n",
    "import matplotlib.pyplot as plt\n",
    "import seaborn as sns\n",
    "import warnings\n",
    "\n",
    "warnings.filterwarnings('ignore')\n",
    "pd.set_option(\"display.float_format\", \"{:.3f}\".format)\n",
    "sns.set()"
   ]
  },
  {
   "cell_type": "code",
   "execution_count": 5,
   "metadata": {},
   "outputs": [],
   "source": [
    "cc = pd.read_csv('concrete_clean.csv')"
   ]
  },
  {
   "cell_type": "code",
   "execution_count": 6,
   "metadata": {},
   "outputs": [
    {
     "data": {
      "text/html": [
       "<div>\n",
       "<style scoped>\n",
       "    .dataframe tbody tr th:only-of-type {\n",
       "        vertical-align: middle;\n",
       "    }\n",
       "\n",
       "    .dataframe tbody tr th {\n",
       "        vertical-align: top;\n",
       "    }\n",
       "\n",
       "    .dataframe thead th {\n",
       "        text-align: right;\n",
       "    }\n",
       "</style>\n",
       "<table border=\"1\" class=\"dataframe\">\n",
       "  <thead>\n",
       "    <tr style=\"text-align: right;\">\n",
       "      <th></th>\n",
       "      <th>Cement</th>\n",
       "      <th>Slag</th>\n",
       "      <th>FlyAsh</th>\n",
       "      <th>Water</th>\n",
       "      <th>SPs</th>\n",
       "      <th>CoarseAgg</th>\n",
       "      <th>FineAgg</th>\n",
       "      <th>WC</th>\n",
       "      <th>Day</th>\n",
       "      <th>Strength</th>\n",
       "    </tr>\n",
       "  </thead>\n",
       "  <tbody>\n",
       "    <tr>\n",
       "      <th>0</th>\n",
       "      <td>540.000</td>\n",
       "      <td>0.000</td>\n",
       "      <td>0.000</td>\n",
       "      <td>162.000</td>\n",
       "      <td>2.500</td>\n",
       "      <td>1040.000</td>\n",
       "      <td>676.000</td>\n",
       "      <td>0.300</td>\n",
       "      <td>28</td>\n",
       "      <td>79.986</td>\n",
       "    </tr>\n",
       "    <tr>\n",
       "      <th>1</th>\n",
       "      <td>540.000</td>\n",
       "      <td>0.000</td>\n",
       "      <td>0.000</td>\n",
       "      <td>162.000</td>\n",
       "      <td>2.500</td>\n",
       "      <td>1055.000</td>\n",
       "      <td>676.000</td>\n",
       "      <td>0.300</td>\n",
       "      <td>28</td>\n",
       "      <td>61.887</td>\n",
       "    </tr>\n",
       "    <tr>\n",
       "      <th>2</th>\n",
       "      <td>332.500</td>\n",
       "      <td>142.500</td>\n",
       "      <td>0.000</td>\n",
       "      <td>228.000</td>\n",
       "      <td>0.000</td>\n",
       "      <td>932.000</td>\n",
       "      <td>594.000</td>\n",
       "      <td>0.686</td>\n",
       "      <td>90</td>\n",
       "      <td>40.270</td>\n",
       "    </tr>\n",
       "  </tbody>\n",
       "</table>\n",
       "</div>"
      ],
      "text/plain": [
       "   Cement    Slag  FlyAsh   Water   SPs  CoarseAgg  FineAgg    WC  Day  \\\n",
       "0 540.000   0.000   0.000 162.000 2.500   1040.000  676.000 0.300   28   \n",
       "1 540.000   0.000   0.000 162.000 2.500   1055.000  676.000 0.300   28   \n",
       "2 332.500 142.500   0.000 228.000 0.000    932.000  594.000 0.686   90   \n",
       "\n",
       "   Strength  \n",
       "0    79.986  \n",
       "1    61.887  \n",
       "2    40.270  "
      ]
     },
     "execution_count": 6,
     "metadata": {},
     "output_type": "execute_result"
    }
   ],
   "source": [
    "cc.head(3)"
   ]
  },
  {
   "cell_type": "code",
   "execution_count": 8,
   "metadata": {},
   "outputs": [],
   "source": [
    "from sklearn.preprocessing import StandardScaler\n",
    "from sklearn.model_selection import train_test_split, cross_val_score, GridSearchCV, KFold\n",
    "from sklearn.tree import DecisionTreeRegressor, DecisionTreeClassifier"
   ]
  },
  {
   "cell_type": "code",
   "execution_count": 12,
   "metadata": {},
   "outputs": [],
   "source": [
    "Y = cc['Strength']\n",
    "X = cc.drop(['Strength'], axis=1)"
   ]
  },
  {
   "cell_type": "code",
   "execution_count": 13,
   "metadata": {},
   "outputs": [],
   "source": [
    "x_train, x_test, y_train, y_test = train_test_split(X, Y, test_size = 0.2, random_state = 42)\n",
    "\n",
    "standardscaler = StandardScaler()\n",
    "x_train = standardscaler.fit_transform(x_train)\n",
    "x_test = standardscaler.transform(x_test)"
   ]
  },
  {
   "cell_type": "code",
   "execution_count": 30,
   "metadata": {},
   "outputs": [],
   "source": [
    "k_range = np.arange(1, 32)\n",
    "test_score = np.empty(len(k_range))\n",
    "\n",
    "for i, k in enumerate(k_range):\n",
    "    dtr = DecisionTreeRegressor(criterion = 'mse', min_samples_split = 2, max_depth = k, min_samples_leaf = 2)\n",
    "    dtr.fit(x_train, y_train)\n",
    "    test_score[i] = dtr.score(x_test, y_test)"
   ]
  },
  {
   "cell_type": "code",
   "execution_count": 32,
   "metadata": {},
   "outputs": [
    {
     "data": {
      "image/png": "[encoded data removed]",
      "text/plain": [
       "<Figure size 648x288 with 1 Axes>"
      ]
     },
     "metadata": {},
     "output_type": "display_data"
    }
   ],
   "source": [
    "plt.figure(figsize=(9,4))\n",
    "plt.plot(k_range, test_score)\n",
    "plt.xlabel('Max Depth')\n",
    "plt.ylabel('Score')\n",
    "plt.show()"
   ]
  },
  {
   "cell_type": "markdown",
   "metadata": {},
   "source": [
    "### Parametreler"
   ]
  },
  {
   "cell_type": "code",
   "execution_count": 21,
   "metadata": {},
   "outputs": [],
   "source": [
    "dtr = DecisionTreeRegressor()\n",
    "params = {'criterion': ['mse', 'mae'], 'min_samples_split': [2, 10, 30], 'max_depth': [2, 4, 8, 16, 32], 'min_samples_leaf': [2, 10, 30]}"
   ]
  },
  {
   "cell_type": "code",
   "execution_count": 22,
   "metadata": {},
   "outputs": [],
   "source": [
    "k_fold = KFold(n_splits = 5, shuffle = True, random_state = 42)\n",
    "gridcv_results = GridSearchCV(estimator = dtr, param_grid = params, cv = k_fold).fit(X, Y)"
   ]
  },
  {
   "cell_type": "code",
   "execution_count": 23,
   "metadata": {},
   "outputs": [
    {
     "data": {
      "text/plain": [
       "{'criterion': 'mse',\n",
       " 'max_depth': 32,\n",
       " 'min_samples_leaf': 2,\n",
       " 'min_samples_split': 2}"
      ]
     },
     "execution_count": 23,
     "metadata": {},
     "output_type": "execute_result"
    }
   ],
   "source": [
    "gridcv_results.best_params_"
   ]
  },
  {
   "cell_type": "code",
   "execution_count": 29,
   "metadata": {},
   "outputs": [
    {
     "data": {
      "text/html": [
       "<div>\n",
       "<style scoped>\n",
       "    .dataframe tbody tr th:only-of-type {\n",
       "        vertical-align: middle;\n",
       "    }\n",
       "\n",
       "    .dataframe tbody tr th {\n",
       "        vertical-align: top;\n",
       "    }\n",
       "\n",
       "    .dataframe thead th {\n",
       "        text-align: right;\n",
       "    }\n",
       "</style>\n",
       "<table border=\"1\" class=\"dataframe\">\n",
       "  <thead>\n",
       "    <tr style=\"text-align: right;\">\n",
       "      <th></th>\n",
       "      <th>mean_fit_time</th>\n",
       "      <th>param_criterion</th>\n",
       "      <th>param_min_samples_leaf</th>\n",
       "      <th>param_min_samples_split</th>\n",
       "      <th>param_max_depth</th>\n",
       "      <th>mean_test_score</th>\n",
       "    </tr>\n",
       "  </thead>\n",
       "  <tbody>\n",
       "    <tr>\n",
       "      <th>36</th>\n",
       "      <td>0.00660</td>\n",
       "      <td>mse</td>\n",
       "      <td>2</td>\n",
       "      <td>2</td>\n",
       "      <td>32</td>\n",
       "      <td>0.84513</td>\n",
       "    </tr>\n",
       "    <tr>\n",
       "      <th>27</th>\n",
       "      <td>0.00660</td>\n",
       "      <td>mse</td>\n",
       "      <td>2</td>\n",
       "      <td>2</td>\n",
       "      <td>16</td>\n",
       "      <td>0.84491</td>\n",
       "    </tr>\n",
       "    <tr>\n",
       "      <th>28</th>\n",
       "      <td>0.00600</td>\n",
       "      <td>mse</td>\n",
       "      <td>2</td>\n",
       "      <td>10</td>\n",
       "      <td>16</td>\n",
       "      <td>0.83865</td>\n",
       "    </tr>\n",
       "    <tr>\n",
       "      <th>37</th>\n",
       "      <td>0.00600</td>\n",
       "      <td>mse</td>\n",
       "      <td>2</td>\n",
       "      <td>10</td>\n",
       "      <td>32</td>\n",
       "      <td>0.83798</td>\n",
       "    </tr>\n",
       "    <tr>\n",
       "      <th>81</th>\n",
       "      <td>0.05596</td>\n",
       "      <td>mae</td>\n",
       "      <td>2</td>\n",
       "      <td>2</td>\n",
       "      <td>32</td>\n",
       "      <td>0.82788</td>\n",
       "    </tr>\n",
       "  </tbody>\n",
       "</table>\n",
       "</div>"
      ],
      "text/plain": [
       "    mean_fit_time param_criterion param_min_samples_leaf  \\\n",
       "36        0.00660             mse                      2   \n",
       "27        0.00660             mse                      2   \n",
       "28        0.00600             mse                      2   \n",
       "37        0.00600             mse                      2   \n",
       "81        0.05596             mae                      2   \n",
       "\n",
       "   param_min_samples_split param_max_depth  mean_test_score  \n",
       "36                       2              32          0.84513  \n",
       "27                       2              16          0.84491  \n",
       "28                      10              16          0.83865  \n",
       "37                      10              32          0.83798  \n",
       "81                       2              32          0.82788  "
      ]
     },
     "execution_count": 29,
     "metadata": {},
     "output_type": "execute_result"
    }
   ],
   "source": [
    "pd.set_option(\"display.float_format\", \"{:.5f}\".format)\n",
    "grid_cv = pd.DataFrame(gridcv_results.cv_results_)\n",
    "grid_cv = grid_cv[['mean_fit_time', 'param_criterion', 'param_min_samples_leaf', 'param_min_samples_split', 'param_max_depth', 'mean_test_score']]\n",
    "grid_cv = grid_cv.sort_values(by='mean_test_score', ascending = False)\n",
    "grid_cv.head(5)"
   ]
  },
  {
   "cell_type": "markdown",
   "metadata": {},
   "source": [
    "# __BANKA KAMPANYASI__"
   ]
  },
  {
   "cell_type": "code",
   "execution_count": 33,
   "metadata": {},
   "outputs": [],
   "source": [
    "bk = pd.read_csv('bank_clean.csv')"
   ]
  },
  {
   "cell_type": "code",
   "execution_count": 34,
   "metadata": {},
   "outputs": [
    {
     "data": {
      "text/html": [
       "<div>\n",
       "<style scoped>\n",
       "    .dataframe tbody tr th:only-of-type {\n",
       "        vertical-align: middle;\n",
       "    }\n",
       "\n",
       "    .dataframe tbody tr th {\n",
       "        vertical-align: top;\n",
       "    }\n",
       "\n",
       "    .dataframe thead th {\n",
       "        text-align: right;\n",
       "    }\n",
       "</style>\n",
       "<table border=\"1\" class=\"dataframe\">\n",
       "  <thead>\n",
       "    <tr style=\"text-align: right;\">\n",
       "      <th></th>\n",
       "      <th>age</th>\n",
       "      <th>campaign</th>\n",
       "      <th>pdays</th>\n",
       "      <th>previous</th>\n",
       "      <th>emp.var.rate</th>\n",
       "      <th>cons.price.idx</th>\n",
       "      <th>cons.conf.idx</th>\n",
       "      <th>euribor3m</th>\n",
       "      <th>nr.employed</th>\n",
       "      <th>job_blue-collar</th>\n",
       "      <th>...</th>\n",
       "      <th>month_sep</th>\n",
       "      <th>day_of_week_fri</th>\n",
       "      <th>day_of_week_mon</th>\n",
       "      <th>day_of_week_thu</th>\n",
       "      <th>day_of_week_tue</th>\n",
       "      <th>day_of_week_wed</th>\n",
       "      <th>poutcome_failure</th>\n",
       "      <th>poutcome_nonexistent</th>\n",
       "      <th>poutcome_success</th>\n",
       "      <th>y_yes</th>\n",
       "    </tr>\n",
       "  </thead>\n",
       "  <tbody>\n",
       "    <tr>\n",
       "      <th>0</th>\n",
       "      <td>4</td>\n",
       "      <td>1</td>\n",
       "      <td>0</td>\n",
       "      <td>0</td>\n",
       "      <td>1.10000</td>\n",
       "      <td>94.00000</td>\n",
       "      <td>-36.00000</td>\n",
       "      <td>5.00000</td>\n",
       "      <td>5191.00000</td>\n",
       "      <td>0</td>\n",
       "      <td>...</td>\n",
       "      <td>0</td>\n",
       "      <td>0</td>\n",
       "      <td>1</td>\n",
       "      <td>0</td>\n",
       "      <td>0</td>\n",
       "      <td>0</td>\n",
       "      <td>0</td>\n",
       "      <td>1</td>\n",
       "      <td>0</td>\n",
       "      <td>0</td>\n",
       "    </tr>\n",
       "    <tr>\n",
       "      <th>1</th>\n",
       "      <td>4</td>\n",
       "      <td>1</td>\n",
       "      <td>0</td>\n",
       "      <td>0</td>\n",
       "      <td>1.10000</td>\n",
       "      <td>94.00000</td>\n",
       "      <td>-36.00000</td>\n",
       "      <td>5.00000</td>\n",
       "      <td>5191.00000</td>\n",
       "      <td>0</td>\n",
       "      <td>...</td>\n",
       "      <td>0</td>\n",
       "      <td>0</td>\n",
       "      <td>1</td>\n",
       "      <td>0</td>\n",
       "      <td>0</td>\n",
       "      <td>0</td>\n",
       "      <td>0</td>\n",
       "      <td>1</td>\n",
       "      <td>0</td>\n",
       "      <td>0</td>\n",
       "    </tr>\n",
       "    <tr>\n",
       "      <th>2</th>\n",
       "      <td>2</td>\n",
       "      <td>1</td>\n",
       "      <td>0</td>\n",
       "      <td>0</td>\n",
       "      <td>1.10000</td>\n",
       "      <td>94.00000</td>\n",
       "      <td>-36.00000</td>\n",
       "      <td>5.00000</td>\n",
       "      <td>5191.00000</td>\n",
       "      <td>0</td>\n",
       "      <td>...</td>\n",
       "      <td>0</td>\n",
       "      <td>0</td>\n",
       "      <td>1</td>\n",
       "      <td>0</td>\n",
       "      <td>0</td>\n",
       "      <td>0</td>\n",
       "      <td>0</td>\n",
       "      <td>1</td>\n",
       "      <td>0</td>\n",
       "      <td>0</td>\n",
       "    </tr>\n",
       "  </tbody>\n",
       "</table>\n",
       "<p>3 rows × 44 columns</p>\n",
       "</div>"
      ],
      "text/plain": [
       "   age  campaign  pdays  previous  emp.var.rate  cons.price.idx  \\\n",
       "0    4         1      0         0       1.10000        94.00000   \n",
       "1    4         1      0         0       1.10000        94.00000   \n",
       "2    2         1      0         0       1.10000        94.00000   \n",
       "\n",
       "   cons.conf.idx  euribor3m  nr.employed  job_blue-collar  ...  month_sep  \\\n",
       "0      -36.00000    5.00000   5191.00000                0  ...          0   \n",
       "1      -36.00000    5.00000   5191.00000                0  ...          0   \n",
       "2      -36.00000    5.00000   5191.00000                0  ...          0   \n",
       "\n",
       "   day_of_week_fri  day_of_week_mon  day_of_week_thu  day_of_week_tue  \\\n",
       "0                0                1                0                0   \n",
       "1                0                1                0                0   \n",
       "2                0                1                0                0   \n",
       "\n",
       "   day_of_week_wed  poutcome_failure  poutcome_nonexistent  poutcome_success  \\\n",
       "0                0                 0                     1                 0   \n",
       "1                0                 0                     1                 0   \n",
       "2                0                 0                     1                 0   \n",
       "\n",
       "   y_yes  \n",
       "0      0  \n",
       "1      0  \n",
       "2      0  \n",
       "\n",
       "[3 rows x 44 columns]"
      ]
     },
     "execution_count": 34,
     "metadata": {},
     "output_type": "execute_result"
    }
   ],
   "source": [
    "bk.head(3)"
   ]
  },
  {
   "cell_type": "code",
   "execution_count": 35,
   "metadata": {},
   "outputs": [],
   "source": [
    "Y = bk['y_yes']\n",
    "X = bk.drop(['y_yes'], axis=1)"
   ]
  },
  {
   "cell_type": "code",
   "execution_count": 36,
   "metadata": {},
   "outputs": [],
   "source": [
    "x_train, x_test, y_train, y_test = train_test_split(X, Y, test_size = 0.2, random_state = 42)\n",
    "\n",
    "standardscaler = StandardScaler()\n",
    "x_train = standardscaler.fit_transform(x_train)\n",
    "x_test = standardscaler.transform(x_test)"
   ]
  },
  {
   "cell_type": "code",
   "execution_count": 51,
   "metadata": {},
   "outputs": [],
   "source": [
    "k_range = np.arange(1, 32)\n",
    "test_score = np.empty(len(k_range))\n",
    "\n",
    "for i, k in enumerate(k_range):\n",
    "    dtr = DecisionTreeClassifier(criterion = 'entropy', min_samples_split = 32, max_depth = k, min_samples_leaf = 32)\n",
    "    dtr.fit(x_train, y_train)\n",
    "    test_score[i] = dtr.score(x_test, y_test)"
   ]
  },
  {
   "cell_type": "code",
   "execution_count": 52,
   "metadata": {},
   "outputs": [
    {
     "data": {
      "image/png": "[encoded data removed]",
      "text/plain": [
       "<Figure size 648x288 with 1 Axes>"
      ]
     },
     "metadata": {},
     "output_type": "display_data"
    }
   ],
   "source": [
    "plt.figure(figsize=(9,4))\n",
    "plt.plot(k_range, test_score)\n",
    "plt.xlabel('Max Depth')\n",
    "plt.ylabel('Score')\n",
    "plt.show()"
   ]
  },
  {
   "cell_type": "markdown",
   "metadata": {},
   "source": [
    "### Parametreler"
   ]
  },
  {
   "cell_type": "code",
   "execution_count": 48,
   "metadata": {},
   "outputs": [],
   "source": [
    "dtc = DecisionTreeClassifier()\n",
    "params = {'criterion': ['entropy', 'gini'], 'min_samples_split': [2, 8, 32], 'max_depth': [2, 4, 8, 16, 32], 'min_samples_leaf': [2, 8, 32]}"
   ]
  },
  {
   "cell_type": "code",
   "execution_count": 49,
   "metadata": {},
   "outputs": [],
   "source": [
    "k_fold = KFold(n_splits = 5, shuffle = True, random_state = 42)\n",
    "gridcv_results = GridSearchCV(estimator = dtc, param_grid = params, cv = k_fold).fit(X, Y)"
   ]
  },
  {
   "cell_type": "code",
   "execution_count": 50,
   "metadata": {},
   "outputs": [
    {
     "data": {
      "text/plain": [
       "{'criterion': 'entropy',\n",
       " 'max_depth': 8,\n",
       " 'min_samples_leaf': 32,\n",
       " 'min_samples_split': 2}"
      ]
     },
     "execution_count": 50,
     "metadata": {},
     "output_type": "execute_result"
    }
   ],
   "source": [
    "gridcv_results.best_params_"
   ]
  },
  {
   "cell_type": "code",
   "execution_count": 54,
   "metadata": {},
   "outputs": [
    {
     "data": {
      "text/html": [
       "<div>\n",
       "<style scoped>\n",
       "    .dataframe tbody tr th:only-of-type {\n",
       "        vertical-align: middle;\n",
       "    }\n",
       "\n",
       "    .dataframe tbody tr th {\n",
       "        vertical-align: top;\n",
       "    }\n",
       "\n",
       "    .dataframe thead th {\n",
       "        text-align: right;\n",
       "    }\n",
       "</style>\n",
       "<table border=\"1\" class=\"dataframe\">\n",
       "  <thead>\n",
       "    <tr style=\"text-align: right;\">\n",
       "      <th></th>\n",
       "      <th>mean_fit_time</th>\n",
       "      <th>param_criterion</th>\n",
       "      <th>param_min_samples_leaf</th>\n",
       "      <th>param_min_samples_split</th>\n",
       "      <th>param_max_depth</th>\n",
       "      <th>mean_test_score</th>\n",
       "    </tr>\n",
       "  </thead>\n",
       "  <tbody>\n",
       "    <tr>\n",
       "      <th>24</th>\n",
       "      <td>0.12352</td>\n",
       "      <td>entropy</td>\n",
       "      <td>32</td>\n",
       "      <td>2</td>\n",
       "      <td>8</td>\n",
       "      <td>0.90080</td>\n",
       "    </tr>\n",
       "    <tr>\n",
       "      <th>26</th>\n",
       "      <td>0.12692</td>\n",
       "      <td>entropy</td>\n",
       "      <td>32</td>\n",
       "      <td>32</td>\n",
       "      <td>8</td>\n",
       "      <td>0.90080</td>\n",
       "    </tr>\n",
       "    <tr>\n",
       "      <th>25</th>\n",
       "      <td>0.14231</td>\n",
       "      <td>entropy</td>\n",
       "      <td>32</td>\n",
       "      <td>8</td>\n",
       "      <td>8</td>\n",
       "      <td>0.90080</td>\n",
       "    </tr>\n",
       "    <tr>\n",
       "      <th>22</th>\n",
       "      <td>0.11593</td>\n",
       "      <td>entropy</td>\n",
       "      <td>8</td>\n",
       "      <td>8</td>\n",
       "      <td>8</td>\n",
       "      <td>0.90063</td>\n",
       "    </tr>\n",
       "    <tr>\n",
       "      <th>23</th>\n",
       "      <td>0.11873</td>\n",
       "      <td>entropy</td>\n",
       "      <td>8</td>\n",
       "      <td>32</td>\n",
       "      <td>8</td>\n",
       "      <td>0.90058</td>\n",
       "    </tr>\n",
       "  </tbody>\n",
       "</table>\n",
       "</div>"
      ],
      "text/plain": [
       "    mean_fit_time param_criterion param_min_samples_leaf  \\\n",
       "24        0.12352         entropy                     32   \n",
       "26        0.12692         entropy                     32   \n",
       "25        0.14231         entropy                     32   \n",
       "22        0.11593         entropy                      8   \n",
       "23        0.11873         entropy                      8   \n",
       "\n",
       "   param_min_samples_split param_max_depth  mean_test_score  \n",
       "24                       2               8          0.90080  \n",
       "26                      32               8          0.90080  \n",
       "25                       8               8          0.90080  \n",
       "22                       8               8          0.90063  \n",
       "23                      32               8          0.90058  "
      ]
     },
     "execution_count": 54,
     "metadata": {},
     "output_type": "execute_result"
    }
   ],
   "source": [
    "pd.set_option(\"display.float_format\", \"{:.5f}\".format)\n",
    "grid_cv = pd.DataFrame(gridcv_results.cv_results_)\n",
    "grid_cv = grid_cv[['mean_fit_time', 'param_criterion', 'param_min_samples_leaf', 'param_min_samples_split', 'param_max_depth', 'mean_test_score']]\n",
    "grid_cv = grid_cv.sort_values(by='mean_test_score', ascending = False)\n",
    "grid_cv.head(5)"
   ]
  },
  {
   "cell_type": "markdown",
   "metadata": {},
   "source": [
    "### Karşılaştırmlar"
   ]
  },
  {
   "cell_type": "code",
   "execution_count": 69,
   "metadata": {},
   "outputs": [],
   "source": [
    "from imblearn.over_sampling import SMOTE, ADASYN\n",
    "from sklearn.metrics import accuracy_score, precision_score, recall_score, f1_score, roc_auc_score"
   ]
  },
  {
   "cell_type": "code",
   "execution_count": 65,
   "metadata": {},
   "outputs": [],
   "source": [
    "def modelFrame(X, Y, idx):\n",
    "    x_train, x_test, y_train, y_test = train_test_split(X, Y, test_size = 0.2, random_state = 42)\n",
    "    \n",
    "    standardscaler = StandardScaler()\n",
    "    x_train = standardscaler.fit_transform(x_train)\n",
    "    x_test = standardscaler.transform(x_test)\n",
    "    \n",
    "    k_fold = KFold(n_splits = 5, shuffle = True, random_state = 42)\n",
    "    model = DecisionTreeClassifier(criterion = 'entropy', min_samples_split = 2, max_depth = 8, min_samples_leaf = 32).fit(x_train, y_train)\n",
    "\n",
    "    y_pred = model.predict(x_test)\n",
    "    y_prob = model.predict_proba(x_test)[:,1]\n",
    "\n",
    "    df = pd.Series({'accuracy': accuracy_score(y_test,y_pred),\n",
    "                    'precision' :precision_score(y_test,y_pred),\n",
    "                    'recall': recall_score(y_test,y_pred),\n",
    "                    'f1-score': f1_score(y_test,y_pred),\n",
    "                    'auc-roc': roc_auc_score(y_test, y_prob),\n",
    "                    'cross-val': cross_val_score(estimator = DecisionTreeClassifier(criterion = 'entropy', min_samples_split = 2, max_depth = 8, min_samples_leaf = 32),\n",
    "                                             X = X, y = Y, cv = k_fold).mean()}, name = idx)\n",
    "    return df"
   ]
  },
  {
   "cell_type": "code",
   "execution_count": 68,
   "metadata": {},
   "outputs": [
    {
     "data": {
      "text/html": [
       "<div>\n",
       "<style scoped>\n",
       "    .dataframe tbody tr th:only-of-type {\n",
       "        vertical-align: middle;\n",
       "    }\n",
       "\n",
       "    .dataframe tbody tr th {\n",
       "        vertical-align: top;\n",
       "    }\n",
       "\n",
       "    .dataframe thead th {\n",
       "        text-align: right;\n",
       "    }\n",
       "</style>\n",
       "<table border=\"1\" class=\"dataframe\">\n",
       "  <thead>\n",
       "    <tr style=\"text-align: right;\">\n",
       "      <th></th>\n",
       "      <th>cross-val</th>\n",
       "      <th>accuracy</th>\n",
       "      <th>precision</th>\n",
       "      <th>recall</th>\n",
       "      <th>f1-score</th>\n",
       "      <th>auc-roc</th>\n",
       "    </tr>\n",
       "  </thead>\n",
       "  <tbody>\n",
       "    <tr>\n",
       "      <th>dtc</th>\n",
       "      <td>0.90080</td>\n",
       "      <td>0.90634</td>\n",
       "      <td>0.68125</td>\n",
       "      <td>0.25408</td>\n",
       "      <td>0.37012</td>\n",
       "      <td>0.80399</td>\n",
       "    </tr>\n",
       "    <tr>\n",
       "      <th>smote</th>\n",
       "      <td>0.75192</td>\n",
       "      <td>0.75002</td>\n",
       "      <td>0.82820</td>\n",
       "      <td>0.63042</td>\n",
       "      <td>0.71590</td>\n",
       "      <td>0.82880</td>\n",
       "    </tr>\n",
       "  </tbody>\n",
       "</table>\n",
       "</div>"
      ],
      "text/plain": [
       "       cross-val  accuracy  precision  recall  f1-score  auc-roc\n",
       "dtc      0.90080   0.90634    0.68125 0.25408   0.37012  0.80399\n",
       "smote    0.75192   0.75002    0.82820 0.63042   0.71590  0.82880"
      ]
     },
     "execution_count": 68,
     "metadata": {},
     "output_type": "execute_result"
    }
   ],
   "source": [
    "dfModel = pd.DataFrame(columns = ['cross-val', 'accuracy', 'precision', 'recall', 'f1-score', 'auc-roc'])\n",
    "\n",
    "Y = bk['y_yes']\n",
    "X = bk.drop(['y_yes'], axis=1)\n",
    "dfModel = dfModel.append(modelFrame(X, Y, 'dtc'))\n",
    "\n",
    "x_smote, y_smote = SMOTE(random_state = 42).fit_sample(X, Y)\n",
    "dfModel = dfModel.append(modelFrame(x_smote, y_smote, 'smote'))\n",
    "\n",
    "dfModel"
   ]
  }
 ],
 "metadata": {
  "kernelspec": {
   "display_name": "Python 3",
   "language": "python",
   "name": "python3"
  },
  "language_info": {
   "codemirror_mode": {
    "name": "ipython",
    "version": 3
   },
   "file_extension": ".py",
   "mimetype": "text/x-python",
   "name": "python",
   "nbconvert_exporter": "python",
   "pygments_lexer": "ipython3",
   "version": "3.7.7"
  }
 },
 "nbformat": 4,
 "nbformat_minor": 4
}
