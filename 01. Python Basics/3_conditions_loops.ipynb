{
 "cells": [
  {
   "cell_type": "code",
   "execution_count": null,
   "metadata": {},
   "outputs": [],
   "source": [
    "#Kullanıcıdan Santigrat ya da Fahrenheit olarak sıcaklık değerini alacak ve diğer sıcaklık birimine çevirecek bir kod yazın.\n",
    "#Dönüşüm için C = (5/9) * (F - 32) formülünü kullanabilirsiniz.\n",
    "\n",
    "birim=str(input(\"Çevrilecek sıcaklık birimini giriniz (F veya C):\"))\n",
    "deger=float(input(\"Sıcaklık değerini giriniz:\"))\n",
    "if birim==\"F\":\n",
    "    san = (5/9) * (deger - 32)\n",
    "    print (str(\"%.1f\" % (san))+\"C\")\n",
    "elif birim==\"C\":\n",
    "    fah = (deger * (9/5)) + 32\n",
    "    print (str(\"%.1f\" % (fah))+\"F\")\n",
    "else :\n",
    "    print (\"Yanlış birim girdiniz\")"
   ]
  },
  {
   "cell_type": "code",
   "execution_count": null,
   "metadata": {},
   "outputs": [],
   "source": [
    "#Kullanıcının girdiği kelimeyi ters çeviren bir kod yazınız.\n",
    "\n",
    "kelime=input(\"Kelime giriniz:\")\n",
    "print(\"Ters yazım:\"+kelime[::-1])"
   ]
  },
  {
   "cell_type": "code",
   "execution_count": null,
   "metadata": {},
   "outputs": [],
   "source": [
    "#Kullanıcının girdiği kelimeyi ters çeviren bir kod yazınız.\n",
    "\n",
    "kelime=input(\"Kelime giriniz:\")\n",
    "for ters in range(len(kelime)-1, -1, -1):\n",
    "    print(kelime[ters], end=\"\")"
   ]
  },
  {
   "cell_type": "code",
   "execution_count": null,
   "metadata": {},
   "outputs": [],
   "source": [
    "#Kullanıcının girdiği kelimeyi ters çeviren bir kod yazınız.\n",
    "\n",
    "kelime=input(\"Kelime giriniz:\")\n",
    "uzunluk = len(kelime) -1\n",
    "print (uzunluk)\n",
    "while uzunluk>=0:\n",
    "    print(kelime[uzunluk], end=\"\")\n",
    "    uzunluk-=1"
   ]
  },
  {
   "cell_type": "code",
   "execution_count": null,
   "metadata": {},
   "outputs": [],
   "source": [
    "#1'den 50'ye kadar olan Fibonacci sayılarından oluşan bir liste oluşturun. \n",
    "#İlk iki Fibonacci sayısı 1'dir. Sonraki sayılar, önceki iki sayının toplamıdır.\n",
    "\n",
    "a=1\n",
    "b=1\n",
    "print(a)\n",
    "print(b)\n",
    "i=2\n",
    "while i<=50\n",
    "    eski_a=a\n",
    "    eski_b=b\n",
    "    a=eski_b\n",
    "    b=eski_a+eski_b\n",
    "        print(b)\n",
    "        i+=1"
   ]
  },
  {
   "cell_type": "code",
   "execution_count": null,
   "metadata": {},
   "outputs": [],
   "source": [
    "##Girilen bir sayı için çarpım tablosunu yazdırın.\n",
    "\n",
    "sayi=int(input(\"Tablo istenen sayı:\"))\n",
    "b = 0 \n",
    "while (b < 11):\n",
    "    print(sayi, \"x\", b, \"=\" , sayi*b)\n",
    "    b += 1"
   ]
  },
  {
   "cell_type": "code",
   "execution_count": null,
   "metadata": {},
   "outputs": [],
   "source": [
    "#Girilen bir sayı için çarpım tablosunu yazdırın.\n",
    "\n",
    "sayi=int(input(\"Tablo istenen sayı:\"))\n",
    "for y in range(0,11):\n",
    "    print(sayi, \"x\", y, \"=\" , sayi*y)"
   ]
  },
  {
   "cell_type": "code",
   "execution_count": null,
   "metadata": {},
   "outputs": [],
   "source": [
    "#List comprehension kullanarak, 1'den 20'ye kadar tek sayıların karesini, çift sayıların küpünü içeren bir liste oluşturun.\n",
    "\n",
    "liste=[x**3 if x%2==0 else x**2 for x in range(1,20)]\n",
    "print(*liste)"
   ]
  }
 ],
 "metadata": {
  "kernelspec": {
   "display_name": "Python 3",
   "language": "python",
   "name": "python3"
  },
  "language_info": {
   "codemirror_mode": {
    "name": "ipython",
    "version": 3
   },
   "file_extension": ".py",
   "mimetype": "text/x-python",
   "name": "python",
   "nbconvert_exporter": "python",
   "pygments_lexer": "ipython3",
   "version": "3.7.4"
  }
 },
 "nbformat": 4,
 "nbformat_minor": 4
}
