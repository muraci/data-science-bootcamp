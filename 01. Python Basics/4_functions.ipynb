{
 "cells": [
  {
   "cell_type": "code",
   "execution_count": null,
   "metadata": {},
   "outputs": [],
   "source": [
    "#Seçeceğiniz herhangi bir şiiri bilgisayarına .txt dsyası olarak kaydedin. Şiirin kaç dizeden oluştuğunu hesaplayın.\n",
    "\n",
    "with open(\"adsiz.txt\", \"r\") as f:\n",
    "    line=f.readlines()\n",
    "    bosluk=line.count('\\n')\n",
    "print(len(line)-bosluk)"
   ]
  },
  {
   "cell_type": "code",
   "execution_count": null,
   "metadata": {},
   "outputs": [],
   "source": [
    "#Oluşturunlan şiirde her dizenin ilk kelimesini yazdırın.\n",
    "\n",
    "with open(\"adsiz.txt\", \"r\") as f:\n",
    "    line=f.readlines()\n",
    "    while (line.count('\\n')):\n",
    "        line.remove('\\n')\n",
    "    ilk=list(i.split(\" \")[0] for i in line)\n",
    "    print(ilk)"
   ]
  },
  {
   "cell_type": "code",
   "execution_count": null,
   "metadata": {},
   "outputs": [],
   "source": [
    "#Parametre olarak girilen bir sayının asal sayı olup olmadığını belirten bir fonksiyon yazın.\n",
    "\n",
    "def asal(n):\n",
    "    if n>1:\n",
    "        for i in range(3, n):\n",
    "            if n % i == 0:\n",
    "                print(\"Asal sayı değildir.\")\n",
    "                return\n",
    "        print(\"Asal sayıdır.\")   \n",
    "    else:\n",
    "        print(\"1'den büyük sayı giriniz.\")\n",
    "\n",
    "n= int(input(\"Sayı giriniz:\"))\n",
    "asal(n)"
   ]
  },
  {
   "cell_type": "code",
   "execution_count": null,
   "metadata": {},
   "outputs": [],
   "source": [
    "#Parametre olarak girilen sayı kadar asal sayı yazdıran bir fonkisyon yazın.\n",
    "\n",
    "def asal(num):\n",
    "    liste = []\n",
    "    n = 2\n",
    "    while len(liste) != num:\n",
    "        for i in range(2, n // 2 + 1):\n",
    "            if n % i == 0:\n",
    "                break\n",
    "        else:\n",
    "            liste.append(n)\n",
    "        n += 1\n",
    "\n",
    "    return liste\n",
    "\n",
    "num=int(input(\"Sayı girin:\"))\n",
    "print (asal(num))"
   ]
  },
  {
   "cell_type": "code",
   "execution_count": null,
   "metadata": {},
   "outputs": [],
   "source": [
    "#Parametre olarak girilecek listenin elemanlarını yeni bir listeye her değer sadece bir kere geçecek şekilde aktaran bir fonksiyon yazın. \n",
    "#Normalde bu işlemi set() komutu ile yapabiliriz ama bu seferlik bu komutu kullanmayalım.\n",
    "\n",
    "def tekrarsil(liste):\n",
    "    uniq=[]\n",
    "    for i in liste:\n",
    "        if i not in uniq:\n",
    "            uniq.append(i)\n",
    "    return uniq   \n",
    "\n",
    "uniq_liste = [1, 2, 2, 3, 3, 4, 4, 4]\n",
    "print(tekrarsil(uniq_liste))"
   ]
  },
  {
   "cell_type": "code",
   "execution_count": null,
   "metadata": {},
   "outputs": [],
   "source": [
    "#Zaman ile ilgili modüllerden birisini import ederek, parametre olarak doğum tarihi alan ve yaşı döndüren bir fonksiyon yazınız.\n",
    "\n",
    "from datetime import date, datetime\n",
    "  \n",
    "def yashesapla(dogumtarihi): \n",
    "    bugun = date.today() \n",
    "    yas = bugun.year - dogumtarihi.year - ((bugun.month, bugun.day) < (dogumtarihi.month, dogumtarihi.day)) \n",
    "    return yas \n",
    "      \n",
    "print(\"Doğum tarihi girin! (Gün/Ay/Yıl)\")\n",
    "dogum = datetime.strptime(input(\"--->  \"), \"%d/%m/%Y\")   \n",
    "print(yashesapla(dogum), \"yaşındasın!\") "
   ]
  }
 ],
 "metadata": {
  "kernelspec": {
   "display_name": "Python 3",
   "language": "python",
   "name": "python3"
  },
  "language_info": {
   "codemirror_mode": {
    "name": "ipython",
    "version": 3
   },
   "file_extension": ".py",
   "mimetype": "text/x-python",
   "name": "python",
   "nbconvert_exporter": "python",
   "pygments_lexer": "ipython3",
   "version": "3.7.4"
  }
 },
 "nbformat": 4,
 "nbformat_minor": 4
}
