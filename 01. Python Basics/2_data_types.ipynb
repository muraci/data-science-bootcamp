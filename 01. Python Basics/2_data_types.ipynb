{
 "cells": [
  {
   "cell_type": "code",
   "execution_count": null,
   "metadata": {},
   "outputs": [],
   "source": [
    "#İçerisinde 7 günün bulunduğu bir sözlük oluşturun. \n",
    "#Kullanıcıya günleri listeleyerek 2 farklı gün seçmesini isteyin (örneğin pazartesi ve salı için \"12\" gibi). \n",
    "#Kullanıcının seçtiği günleri sözlükten silerek kalan 5 günü ekrana yazdırın.\n",
    "\n",
    "gunler={1:\"pazartesi\",2:\"sali\",3:\"carsamba\",4:\"persembe\",5:\"cuma\",6:\"cumartesi\",7:\"pazar\"}\n",
    "x1=int(input(\"Silinecek 1. gün:\"))\n",
    "x2=int(input(\"Silinecek 2. gün:\"))\n",
    "del gunler[x1],gunler[x2]\n",
    "print(list(gunler.values()))"
   ]
  },
  {
   "cell_type": "code",
   "execution_count": null,
   "metadata": {},
   "outputs": [],
   "source": [
    "#Ayların kaç gün çektiğini karıştırabiliyoruz. \n",
    "#Bunun için bir liste oluşturun ancak listenizde ay isimleri ve gün sayıları beraber bulunsun. \n",
    "#ipucu: listenizin içinde başka bir veri yapısı yer alacak!\n",
    "\n",
    "aylar=[{\"Ocak\":31}, {\"Şubat\":28}, {\"Mart\":31}, {\"Nisan\":30}, {\"Mayıs\":31}, {\"Haziran\":30}, {\"Temmuz\":31}, {\"Ağustos\":31}, {\"Eylül\":30}, {\"Ekim\":31}, {\"Kasım\":30}, {\"Aralık\":31}]"
   ]
  },
  {
   "cell_type": "code",
   "execution_count": null,
   "metadata": {},
   "outputs": [],
   "source": [
    "#Bilgileri bir önceki listeden alan başka bir ay listesi oluşturun. \n",
    "#Bu kez ayları günlerle birlikte listenin içinde iki ayrı listede tutun.\n",
    "\n",
    "aylar=[{\"Ocak\":31}, {\"Şubat\":28}, {\"Mart\":31}, {\"Nisan\":30}, {\"Mayıs\":31}, {\"Haziran\":30}, {\"Temmuz\":31}, {\"Ağustos\":31}, {\"Eylül\":30}, {\"Ekim\":31}, {\"Kasım\":30}, {\"Aralık\":31}]\n",
    "for x in aylar:\n",
    "    list1=list(x.keys())\n",
    "    list2=list(x.values())"
   ]
  },
  {
   "cell_type": "code",
   "execution_count": null,
   "metadata": {},
   "outputs": [],
   "source": [
    "#Bilgileri bir önceki listeden alan başka bir ay listesi oluşturun. \n",
    "#Bu kez ayları günlerle birlikte listenin içinde iki ayrı listede tutun.\n",
    "\n",
    "ay_gun={\"Ocak\":31,\"Şubat\":28,\"Mart\":31,\"Nisan\":30,\"Mayıs\":31,\"Haziran\":30,\"Temmuz\":31,\"Ağustos\":31,\"Eylül\":30,\"Ekim\":31,\"Kasım\":30,\"Aralık\":31}\n",
    "\n",
    "aylar=list(ay_gun.keys())\n",
    "gunler=list(ay_gun.values())\n",
    "\n",
    "print(aylar)\n",
    "print(gunler)"
   ]
  },
  {
   "cell_type": "code",
   "execution_count": null,
   "metadata": {},
   "outputs": [],
   "source": [
    "#Şimdi ise mevsim mevsim ayrılmış ay listeleri oluşturun. Liste adlarına mevsimlerin adlarını verin.\n",
    "\n",
    "ilkbahar = ['Mart', 'Nisan', 'Mayıs']\n",
    "yaz = ['Haziran', 'Temmuz','Ağustos']\n",
    "sonbahar = ['Eylül', 'Ekim', 'Kasım']\n",
    "kış = ['Aralık', 'Ocak', 'Şubat']"
   ]
  },
  {
   "cell_type": "code",
   "execution_count": null,
   "metadata": {},
   "outputs": [],
   "source": [
    "#Son olarak, bir önceki sorudaki listeden yaz ayının kaç gün sürdüğünü hesaplayın.\n",
    "\n",
    "ay_gun={\"Ocak\":31,\"Şubat\":28,\"Mart\":31,\"Nisan\":30,\"Mayıs\":31,\"Haziran\":30,\"Temmuz\":31,\"Ağustos\":31,\"Eylül\":30,\"Ekim\":31,\"Kasım\":30,\"Aralık\":31}\n",
    "\n",
    "aylar=list(ay_gun.keys())\n",
    "gunler=list(ay_gun.values())\n",
    "\n",
    "print(aylar)\n",
    "print(gunler)\n",
    "\n",
    "ilkbahar = ['Mart', 'Nisan', 'Mayıs']\n",
    "yaz = ['Haziran', 'Temmuz','Ağustos']\n",
    "sonbahar = ['Eylül', 'Ekim', 'Kasım']\n",
    "kis = ['Aralık', 'Ocak', 'Şubat']\n",
    "\n",
    "a=gunler[aylar.index(ilkbahar[0])]+gunler[aylar.index(ilkbahar[1])]+gunler[aylar.index(ilkbahar[2])]\n",
    "print(a)\n",
    "\n",
    "b=ay_gun.get(ilkbahar[0])+ay_gun.get(ilkbahar[1])+ay_gun.get(ilkbahar[2])\n",
    "print(b)"
   ]
  },
  {
   "cell_type": "code",
   "execution_count": null,
   "metadata": {},
   "outputs": [],
   "source": [
    "#Son olarak, bir önceki sorudaki listeden yaz ayının kaç gün sürdüğünü hesaplayın.\n",
    "\n",
    "aylar=[{\"Ocak\":31}, {\"Şubat\":28}, {\"Mart\":31}, {\"Nisan\":30}, {\"Mayıs\":31}, {\"Haziran\":30}, {\"Temmuz\":31}, {\"Ağustos\":31}, {\"Eylül\":30}, {\"Ekim\":31}, {\"Kasım\":30}, {\"Aralık\":31}]\n",
    "deger=0\n",
    "for x in aylar:\n",
    "    list1=list(x.keys())\n",
    "    list2=list(x.values())\n",
    "    \n",
    "    ilkbahar = ['Mart', 'Nisan', 'Mayıs']\n",
    "    yaz = ['Haziran', 'Temmuz','Ağustos']\n",
    "    sonbahar = ['Eylül', 'Ekim', 'Kasım']\n",
    "    kış = ['Aralık', 'Ocak', 'Şubat']\n",
    "    \n",
    "    for a1 in ilkbahar:\n",
    "        if a1 in list1:\n",
    "            a1=list1.count(ilkbahar)\n",
    "            a2=list2[a1]\n",
    "            deger+=a2\n",
    "print(deger)"
   ]
  }
 ],
 "metadata": {
  "kernelspec": {
   "display_name": "Python 3",
   "language": "python",
   "name": "python3"
  },
  "language_info": {
   "codemirror_mode": {
    "name": "ipython",
    "version": 3
   },
   "file_extension": ".py",
   "mimetype": "text/x-python",
   "name": "python",
   "nbconvert_exporter": "python",
   "pygments_lexer": "ipython3",
   "version": "3.7.4"
  }
 },
 "nbformat": 4,
 "nbformat_minor": 4
}
