{
 "cells": [
  {
   "cell_type": "code",
   "execution_count": null,
   "metadata": {},
   "outputs": [],
   "source": [
    "#Endeksi alfabenin ilk 10 harfi olan ve ilk 10 asal sayıyı ve ilk 10 fibonacci sayısını içeren bir veri çerçevesi oluşturun.\n",
    "\n",
    "import string\n",
    "import numpy as np\n",
    "import pandas as pd\n",
    "\n",
    "N=int(input(\"Terim sayısı giriniz: \"))\n",
    "\n",
    "def asal(N):\n",
    "    liste = []\n",
    "    n = 2\n",
    "    while len(liste) != N:\n",
    "        for i in range(2, n // 2 + 1):\n",
    "            if n % i == 0:\n",
    "                break\n",
    "        else:\n",
    "            liste.append(n)\n",
    "        n += 1\n",
    "\n",
    "    return liste\n",
    "\n",
    "def fibo(N):\n",
    "    if N == 0:\n",
    "        return [0]\n",
    "    elif N == 1:\n",
    "        return [0, 1]\n",
    "    else:\n",
    "        lst = fibo(N-1)\n",
    "        lst.append(lst[-1] + lst[-2])\n",
    "        return lst\n",
    "            \n",
    "\n",
    "harf_liste=list(string.ascii_lowercase[:N])\n",
    "cerceve = {'Asal': asal(N), \"Fibo\": fibo(N-1)}\n",
    "df = pd.DataFrame(data=cerceve,index=harf_liste)\n",
    "\n",
    "df"
   ]
  },
  {
   "cell_type": "code",
   "execution_count": null,
   "metadata": {},
   "outputs": [],
   "source": [
    "#Kaggle'dan Titanic: Machine Learning from Disaster isimli yarışmanın train.csv isimli dosyasını indirin\n",
    "#Pandas veri çerçevelerini kullanarak tüm veriyi yükleyin. \n",
    "#Veri çerçevelerinin .groupby() metodunu kullanarak yolcuların ortalama yaşlarını herbir cinsiyet için ayrı olacak şekilde hesaplayın.\n",
    "\n",
    "df = pd.read_csv('train.csv',index_col=0)\n",
    "\n",
    "df.groupby(by='Sex').mean()['Age']"
   ]
  },
  {
   "cell_type": "code",
   "execution_count": null,
   "metadata": {},
   "outputs": [],
   "source": [
    "#Kaggle'dan Titanic: Machine Learning from Disaster isimli yarışmanın train.csv isimli dosyasını indirin\n",
    "#Koşullu seçim yöntemlerini de kullanarak, 30 yaşından küçük tüm yolcuların kurtulma oranını (survival ratio) hesaplayın.\n",
    "\n",
    "df = pd.read_csv('train.csv')\n",
    "\n",
    "df.PassengerId[(df[\"Survived\"]==1) & (df[\"Age\"]<30)].count() / df.PassengerId.count()"
   ]
  },
  {
   "cell_type": "code",
   "execution_count": null,
   "metadata": {},
   "outputs": [],
   "source": [
    "#Kaggle'dan Titanic: Machine Learning from Disaster isimli yarışmanın train.csv isimli dosyasını indirin\n",
    "#Koşullu seçim yöntemlerini de kullanarak, 30 yaşından küçük tüm yolcuların kurtulma oranını (survival ratio) cinsiyete göre ayrı ayrı hesaplayın.\n",
    "\n",
    "df = pd.read_csv('train.csv')\n",
    "\n",
    "print(\"Female:\",df.PassengerId[(df[\"Survived\"]==1) & (df[\"Age\"]<30) & (df[\"Sex\"]==\"female\")].count() / df.PassengerId[(df[\"Survived\"]==1) & (df[\"Age\"]<30)].count())\n",
    "print(\"Male:\",df.PassengerId[(df[\"Survived\"]==1) & (df[\"Age\"]<30) & (df[\"Sex\"]==\"male\")].count() / df.PassengerId[(df[\"Survived\"]==1) & (df[\"Age\"]<30)].count())"
   ]
  }
 ],
 "metadata": {
  "kernelspec": {
   "display_name": "Python 3",
   "language": "python",
   "name": "python3"
  },
  "language_info": {
   "codemirror_mode": {
    "name": "ipython",
    "version": 3
   },
   "file_extension": ".py",
   "mimetype": "text/x-python",
   "name": "python",
   "nbconvert_exporter": "python",
   "pygments_lexer": "ipython3",
   "version": "3.7.4"
  }
 },
 "nbformat": 4,
 "nbformat_minor": 4
}
