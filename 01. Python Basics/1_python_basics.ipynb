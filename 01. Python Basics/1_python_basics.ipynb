{
 "cells": [
  {
   "cell_type": "code",
   "execution_count": null,
   "metadata": {},
   "outputs": [],
   "source": [
    "#Bitcoin'in iyi kazandırdığı 2017 yılı sonunda yatırım yaptığınızı farz edelim. \n",
    "#Günlük ortalama %12 artan bitcoine 1000$ yatırmış olsaydınız bir hafta sonunda paranız ne kadar olurdu? \n",
    "\n",
    "print(\"Bir hafta sonunda paramız\", int(1000*(1+12/100)**7),\"$ olur.\")"
   ]
  },
  {
   "cell_type": "code",
   "execution_count": null,
   "metadata": {},
   "outputs": [],
   "source": [
    "#Tırnak içindeki metni Python ile yazdırın. Ancak rakamlar değişkenlerden gelmeli. \n",
    "#Metin uzun olduğu için iki satıra yazmayı düşünebilirsiniz: \n",
    "#\"Hafta başında 1000 dolarlık bitcoin aldığımızda günde ortalama %12 kazançla, bir hafta sonunda 1210.68 dolar kazanırdık\"\n",
    "\n",
    "ilk=1000\n",
    "faiz=12\n",
    "metin=\"Hafta başında {} dolarlık bitcoin aldığımızda günde ortalama %{} kazançla, bir hafta sonunda {} dolar kazanırdık.\"\n",
    "print(metin.format(ilk,faiz,son))"
   ]
  },
  {
   "cell_type": "code",
   "execution_count": null,
   "metadata": {},
   "outputs": [],
   "source": [
    "#Kullanıcıdan dosya adını alan ve bu dosya adına \"py\" uzantısı ekleyerek ekrana yazdıran bir kod yazınız.\n",
    "\n",
    "dosyaadi=input(\"Dosya Adı: \")\n",
    "print(dosyaadi+\".py\")"
   ]
  }
 ],
 "metadata": {
  "kernelspec": {
   "display_name": "Python 3",
   "language": "python",
   "name": "python3"
  },
  "language_info": {
   "codemirror_mode": {
    "name": "ipython",
    "version": 3
   },
   "file_extension": ".py",
   "mimetype": "text/x-python",
   "name": "python",
   "nbconvert_exporter": "python",
   "pygments_lexer": "ipython3",
   "version": "3.7.4"
  }
 },
 "nbformat": 4,
 "nbformat_minor": 4
}
