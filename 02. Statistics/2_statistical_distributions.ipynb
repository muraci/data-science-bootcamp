{
 "cells": [
  {
   "cell_type": "code",
   "execution_count": null,
   "metadata": {},
   "outputs": [],
   "source": [
    "#Dağılım parametrelerini kullanarak veri kümesi oluşturun. Oluşturulan verinin histogramını ve QQ grafiğini çizdirin.\n",
    "\n",
    "import numpy as np\n",
    "import matplotlib.pyplot as plt\n",
    "from scipy.stats import uniform\n",
    "from scipy import stats\n",
    "import seaborn as sns\n",
    "sns.set()\n",
    "\n",
    "plt.figure(figsize=(10,10))\n",
    "\n",
    "#Binom Dağılım (Sayı(n)-Başarı(p))\n",
    "plt.subplot(321)\n",
    "plt.hist(np.random.binomial(10, 0.6,100000), density=True) #(n,p,(100,10))\n",
    "plt.subplot(322)\n",
    "stats.probplot(np.random.binomial(10, 0.6,100000), plot=plt)\n",
    "\n",
    "#Normal Dağılım (Ort(mu)-Std(sigma))\n",
    "plt.subplot(323)\n",
    "plt.hist(np.random.normal(0, 20,100000), density=True) #(mu, sigma, (1000,1))\n",
    "plt.subplot(324)\n",
    "stats.probplot(np.random.normal(0, 20,100000), plot=plt)\n",
    "\n",
    "#Uniform Dağılım (Low-High)\n",
    "plt.subplot(325)\n",
    "plt.hist(np.random.uniform(0, 20,100000), density=True) #(low, high, (1,1))\n",
    "plt.subplot(326)\n",
    "stats.probplot(np.random.uniform(0, 20,100000), plot=plt)\n",
    "\n",
    "plt.tight_layout()\n",
    "plt.show()"
   ]
  },
  {
   "cell_type": "code",
   "execution_count": null,
   "metadata": {},
   "outputs": [],
   "source": [
    "#Google'ın 2015-2017 yılları arasında hisse senedi fiyatlarını elde edin. \n",
    "#Bu veriyi kullanarak hisse senedi getirisini şu formülle hesaplayın: (P(t)-P(t-1))/P(t-1)   P(t)>>t zamanındaki hisse fiyatı\n",
    "#Getiriler dağılımı hangi dağılıma daha yakındır? Grafikleri yorumlayın.\n",
    "\n",
    "import pandas as pd\n",
    "import numpy as np\n",
    "import matplotlib.pyplot as plt\n",
    "from scipy import stats\n",
    "import seaborn as sns\n",
    "sns.set()\n",
    "\n",
    "df = pd.read_csv('GOOGL.csv')\n",
    "\n",
    "liste=[]\n",
    "t=1\n",
    "while t<len(df):\n",
    "    b=t-1\n",
    "    hisse=(df.Close[t]-df.Close[b])/(df.Close[b])\n",
    "    liste.append(hisse)\n",
    "    t+=1\n",
    "\n",
    "plt.figure(figsize=(15,5),dpi=100)\n",
    "\n",
    "plt.subplot(121)\n",
    "plt.hist(liste, bins=50, density=True)\n",
    "plt.axvline(np.mean(liste), color='r', linestyle='solid', linewidth=1)\n",
    "plt.axvline(np.mean(liste) + np.std(liste), color='r', linestyle='dashed', linewidth=1)\n",
    "plt.axvline(np.mean(liste) - np.std(liste), color='r', linestyle='dashed', linewidth=1)\n",
    "\n",
    "plt.subplot(122)\n",
    "stats.probplot(liste,plot=plt)\n",
    "\n",
    "plt.figure(figsize=(100,20))\n",
    "plt.yticks(fontsize=50)\n",
    "plt.bar(np.arange(len(liste)),liste)\n",
    "\n",
    "plt.show()"
   ]
  }
 ],
 "metadata": {
  "kernelspec": {
   "display_name": "Python 3",
   "language": "python",
   "name": "python3"
  },
  "language_info": {
   "codemirror_mode": {
    "name": "ipython",
    "version": 3
   },
   "file_extension": ".py",
   "mimetype": "text/x-python",
   "name": "python",
   "nbconvert_exporter": "python",
   "pygments_lexer": "ipython3",
   "version": "3.7.4"
  }
 },
 "nbformat": 4,
 "nbformat_minor": 4
}
