{
 "cells": [
  {
   "cell_type": "code",
   "execution_count": null,
   "metadata": {},
   "outputs": [],
   "source": [
    "#Üç adet normal dağılıma sahip, 1000 gözlem içeren değişken üretin. Değişkenlerin, ort ve std kendiniz belirleyebilirsiniz. \n",
    "#Değişkenleri 50, 200 ve 1000 kere üretin üretin ve her seferinde bu değişkenin ortalamasını alın. \n",
    "#Daha sonra, üç değişkenin hesapladığınız ortalamalarının histogramını çizdirin. \n",
    "#Hangi değişkenin ortalamalarının dağılımı normal dağılıma daha yakın? Sizce Merkezi Limit Theoremi çalışmış görünüyor mu?\n",
    "\n",
    "import numpy as np\n",
    "import matplotlib.pyplot as plt\n",
    "import seaborn as sns\n",
    "sns.set()\n",
    "\n",
    "gozlem = []\n",
    "gozlem_ort = []\n",
    "for i in range(1,1000):\n",
    "    deger = np.random.normal(10,10,1)[0]\n",
    "    gozlem.append(deger)\n",
    "    gozlem_ort.append(np.mean(gozlem))\n",
    "    \n",
    "def ornekle (ort, girdi, sno):\n",
    "    plt.subplot(sno)\n",
    "    plt.hlines(np.mean(gozlem), 0, girdi, colors= 'r' )\n",
    "    plt.plot(ort[0:girdi])\n",
    "    plt.title(\"Gözlem Sayısı = {}\".format(girdi))\n",
    "    plt.xlabel(\"Gözlem Sayısı\")\n",
    "    plt.ylabel(\"Gözlem Ortalaması\")\n",
    "    return plt\n",
    "\n",
    "plt.figure(figsize=(15,3))\n",
    "ornekle(gozlem_ort, 50, 131) \n",
    "ornekle(gozlem_ort, 200, 132)\n",
    "ornekle(gozlem_ort, 1000, 133)\n",
    "plt.show()"
   ]
  },
  {
   "cell_type": "code",
   "execution_count": null,
   "metadata": {},
   "outputs": [],
   "source": [
    "#İki madeni paramızın olduğunu varsayalım. Bunlardan bir tanesi adil (0.5) olasılıktadır.\n",
    "#Diğeri ise adil değil ve atıldığında 0.75 olasılığında tura elde edilmektedir. \n",
    "#Herhangi biri seçilip, n kere deneme yapıldığında, uzun vadede gelecek tura sayısını tahmin etmemize izin verir mi?\n",
    "#Çok sayıda deneme yapıldığında, hangi paranın seçildiğini bilebilir miyiz?\n",
    "\n",
    "import numpy as np\n",
    "import matplotlib.pyplot as plt\n",
    "import seaborn as sns\n",
    "sns.set()\n",
    "\n",
    "yt = np.random.binomial(1, 0.5, 1)[0] # 1 = 1.para, 0 = 2.para\n",
    "olasi=[]\n",
    "\n",
    "for i in range(1000):\n",
    "    if yt==1:\n",
    "        p1 = np.random.binomial(1, 0.5, 1) # 1=yazı, 0=tura\n",
    "        olasi.append(p1[0])\n",
    "    elif yt==0:\n",
    "        p2 = np.random.binomial(1, 0.25, 1) # 1=yazı, 0=tura\n",
    "        olasi.append(p2[0])\n",
    "        \n",
    "#sum(np.random.binomial(1, 0.25, 1000) == 0)/1000  #1.para\n",
    "#sum(np.random.binomial(1, 0.5, 1000) == 0)/1000  #2.para\n",
    "\n",
    "plt.hist(olasi) \n",
    "plt.show()"
   ]
  }
 ],
 "metadata": {
  "kernelspec": {
   "display_name": "Python 3",
   "language": "python",
   "name": "python3"
  },
  "language_info": {
   "codemirror_mode": {
    "name": "ipython",
    "version": 3
   },
   "file_extension": ".py",
   "mimetype": "text/x-python",
   "name": "python",
   "nbconvert_exporter": "python",
   "pygments_lexer": "ipython3",
   "version": "3.7.4"
  }
 },
 "nbformat": 4,
 "nbformat_minor": 4
}
