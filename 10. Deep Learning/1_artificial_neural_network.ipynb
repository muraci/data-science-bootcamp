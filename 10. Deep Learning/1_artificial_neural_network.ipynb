{
 "cells": [
  {
   "cell_type": "markdown",
   "metadata": {},
   "source": [
    "- Bir sinir ağında her biri 512 nöronlu üç katmanımız varsa, kaç parametreyi tahmin etmemiz gerekir?\n",
    "\n"
   ]
  },
  {
   "cell_type": "code",
   "execution_count": 11,
   "metadata": {},
   "outputs": [
    {
     "data": {
      "text/plain": [
       "525312"
      ]
     },
     "execution_count": 11,
     "metadata": {},
     "output_type": "execute_result"
    }
   ],
   "source": [
    "(512*512)+(512*512)+(512+512)  #agırlık + agırlık + bias"
   ]
  },
  {
   "cell_type": "markdown",
   "metadata": {},
   "source": [
    "- XOR fonksiyonu yalnızca bağımsız değişkenlerden biri doğru, diğeri yanlış olduğunda doğru değeri vermektedir. Aksi takdirde, her zaman yanlış elde edilir. Bu işlevi tek bir tabaka (layer) kullanarak gerçekleştirmenin mümkün olduğunu düşünüyor musunuz? Yoksa birkaç birimden oluşan bir tabaka ile mi yapılabilir?\n",
    "\n",
    "\n"
   ]
  },
  {
   "cell_type": "markdown",
   "metadata": {},
   "source": [
    "Tek bir layer yeterlidir. [1,1,1,1]"
   ]
  },
  {
   "cell_type": "markdown",
   "metadata": {},
   "source": [
    "- ANN'nin çıktı değerini ReLU aktivasyon fonksiyonu kullanarak hesaplayın. (y=?)"
   ]
  },
  {
   "cell_type": "code",
   "execution_count": 2,
   "metadata": {},
   "outputs": [],
   "source": [
    "import numpy as np"
   ]
  },
  {
   "cell_type": "code",
   "execution_count": 18,
   "metadata": {},
   "outputs": [],
   "source": [
    "def relu(x):\n",
    "    return np.maximum(0,x)\n",
    "\n",
    "def neuron(value,weight):\n",
    "    total = []\n",
    "    for i in range(len(weight)):\n",
    "        total.append(np.dot(value,weight[i]).sum())\n",
    "    return total"
   ]
  },
  {
   "cell_type": "code",
   "execution_count": 30,
   "metadata": {},
   "outputs": [],
   "source": [
    "l0=[4,3]\n",
    "w1,w2,w3=[[2,3],[1,-6]],[[1,3],[2,3]],[[-3,1]]"
   ]
  },
  {
   "cell_type": "code",
   "execution_count": 29,
   "metadata": {},
   "outputs": [
    {
     "data": {
      "text/plain": [
       "[67]"
      ]
     },
     "execution_count": 29,
     "metadata": {},
     "output_type": "execute_result"
    }
   ],
   "source": [
    "neuron(neuron(neuron(l0,w1),w2),w3)"
   ]
  }
 ],
 "metadata": {
  "kernelspec": {
   "display_name": "Python 3",
   "language": "python",
   "name": "python3"
  },
  "language_info": {
   "codemirror_mode": {
    "name": "ipython",
    "version": 3
   },
   "file_extension": ".py",
   "mimetype": "text/x-python",
   "name": "python",
   "nbconvert_exporter": "python",
   "pygments_lexer": "ipython3",
   "version": "3.7.7"
  }
 },
 "nbformat": 4,
 "nbformat_minor": 4
}
