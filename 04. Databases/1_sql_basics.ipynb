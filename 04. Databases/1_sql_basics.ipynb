{
 "cells": [
  {
   "cell_type": "markdown",
   "metadata": {},
   "source": [
    "- Terminal aracılığı ile sakila verilerini yükleyiniz."
   ]
  },
  {
   "cell_type": "code",
   "execution_count": null,
   "metadata": {},
   "outputs": [],
   "source": [
    "source \\sakila-schema.sql\n",
    "source \\sakila-data.sql"
   ]
  },
  {
   "cell_type": "markdown",
   "metadata": {},
   "source": [
    "- creditlimit, 100.000'den büyük olan tüm müşterilerin (-customers tablosundan) müşteri numarası, adı ve kredi limit bilgilerini creditlimit alanına göre sıralı bir şekilde gösteriniz.\n",
    "- customers tablosundan customernumber bilgisi 151 olan kaydın her sütununu gösteriniz.\n",
    "- postalcode, 10022 olan müşterilerin kredi limit bilgilerini azalan sırada gösteriniz."
   ]
  },
  {
   "cell_type": "code",
   "execution_count": null,
   "metadata": {},
   "outputs": [],
   "source": [
    "SELECT customerNumber, customerName, creditLimit \n",
    "FROM customers \n",
    "WHERE creditLimit > 100000 \n",
    "ORDER BY customerNumber DESC;\n",
    "\n",
    "SELECT *\n",
    "FROM customers \n",
    "WHERE customerNumber=151\n",
    "\n",
    "SELECT *\n",
    "FROM customers \n",
    "WHERE postalcode = 10022\n",
    "ORDER BY creditLimit DESC;"
   ]
  },
  {
   "cell_type": "markdown",
   "metadata": {},
   "source": [
    "- customers tablosundan Maximum kredi limiti nedir? Hangi müşteriye ait?\n",
    "- Her ülkeden kaç müşteri var?\n",
    "- En az sipariş veren müşteri numarası ve sipariş sayısı nedir (orders tablosundan)?"
   ]
  },
  {
   "cell_type": "code",
   "execution_count": null,
   "metadata": {},
   "outputs": [],
   "source": [
    "SELECT *\n",
    "FROM customers\n",
    "ORDER BY creditLimit DESC\n",
    "LIMIT 1;\n",
    "\n",
    "SELECT *\n",
    "FROM customers\n",
    "WHERE creditLimit = (SELECT MAX(creditLimit) FROM customers)\n",
    "\n",
    "SELECT country, COUNT(*)\n",
    "FROM customers\n",
    "GROUP BY country\n",
    "\n",
    "SELECT customerNumber, COUNT(*)\n",
    "FROM orders\n",
    "GROUP BY customerNumber\n",
    "LIMIT 1;"
   ]
  },
  {
   "cell_type": "markdown",
   "metadata": {},
   "source": [
    "- Müşteri sayısı, 20’dan fazla olan ülkeler büyük ülke, 10 ile 20 arası orta, 10’dan az olanlar ise küçük ülke olacak şekilde sıralayınız."
   ]
  },
  {
   "cell_type": "code",
   "execution_count": null,
   "metadata": {},
   "outputs": [],
   "source": [
    "WITH cte AS (\n",
    "\tSELECT country, COUNT(*) AS orderCount\n",
    "\tFROM customers\n",
    "\tGROUP BY country\n",
    "    )\n",
    "    \n",
    "SELECT country, orderCount,\n",
    "\tCASE\n",
    "\t\tWHEN orderCount > 20 THEN 'Büyük'\n",
    "\t\tWHEN orderCount < 10 THEN 'Küçük'\n",
    "\t\tELSE 'Orta'\n",
    "\tEND Olcek\n",
    "FROM cte\n",
    "ORDER BY orderCount DESC"
   ]
  }
 ],
 "metadata": {
  "kernelspec": {
   "display_name": "Python 3",
   "language": "python",
   "name": "python3"
  },
  "language_info": {
   "codemirror_mode": {
    "name": "ipython",
    "version": 3
   },
   "file_extension": ".py",
   "mimetype": "text/x-python",
   "name": "python",
   "nbconvert_exporter": "python",
   "pygments_lexer": "ipython3",
   "version": "3.7.7"
  }
 },
 "nbformat": 4,
 "nbformat_minor": 4
}
