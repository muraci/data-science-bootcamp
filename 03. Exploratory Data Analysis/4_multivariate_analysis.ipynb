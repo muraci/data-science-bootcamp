{
 "cells": [
  {
   "cell_type": "code",
   "execution_count": null,
   "metadata": {},
   "outputs": [],
   "source": [
    "#Kaggle üzerindeki \"Students Performance in Exams\"ne ait bir takım verileri inceleyeceksiniz.\n",
    "#Sınavlardaki performans cinsiyete, kökene ve anne-baba eğitim durumuna göre değişiklik göstermekte midir?\n",
    "\n",
    "sp = pd.read_csv(\"StudentsPerformance.csv\")\n",
    "sp.columns = [\"Gender\",\"Race\",\"Parental\",\"Lunch\",\"Course\",\"Math\",\"Reading\",\"Writing\"]  #sutunlar adlandırılır\n",
    "\n",
    "plt.figure(figsize=(25,15))\n",
    "variable = ['Gender', 'Race', 'Parental', 'Lunch', 'Course']\n",
    "\n",
    "for i in range(5):\n",
    "    plt.subplot(3,5,i+1)\n",
    "    sns.barplot(sp[variable[i]], sp[\"Math\"])\n",
    "    plt.title(\"Math Performance\")\n",
    "for i in range(5):\n",
    "    plt.subplot(3,5,i+6)\n",
    "    sns.barplot(sp[variable[i]], sp[\"Reading\"])\n",
    "    plt.title(\"Reading Performance\")\n",
    "for i in range(5):\n",
    "    plt.subplot(3,5,i+11)\n",
    "    sns.barplot(sp[variable[i]], sp[\"Writing\"])\n",
    "    plt.title(\"Writing Performance\")\n",
    "                \n",
    "plt.tight_layout()\n",
    "plt.show()"
   ]
  },
  {
   "cell_type": "code",
   "execution_count": null,
   "metadata": {},
   "outputs": [],
   "source": [
    "#Kaggle üzerindeki \"Students Performance in Exams\"ne ait bir takım verileri inceleyeceksiniz.\n",
    "#Öğle yemek tipinin sınav performansları ile bir ilişkisi var mı? Varsa bunu nasıl açıklayabilirsiniz?\n",
    "\n",
    "plt.figure(figsize=(10,4))\n",
    "plt.subplot(1,3,1)\n",
    "sns.barplot(sp[\"Lunch\"], sp[\"Math\"])\n",
    "plt.title(\"Math Performance\")\n",
    "plt.subplot(1,3,2)\n",
    "sns.barplot(sp[\"Lunch\"], sp[\"Reading\"])\n",
    "plt.title(\"Reading Performance\")\n",
    "plt.subplot(1,3,3)\n",
    "sns.barplot(sp[\"Lunch\"], sp[\"Writing\"])\n",
    "plt.title(\"Writing Performance\")\n",
    "plt.tight_layout()\n",
    "plt.show()\n",
    "\n",
    "print(stats.ttest_ind(sp[sp[\"Lunch\"]==\"standard\"].Math, sp[sp[\"Lunch\"]==\"free/reduced\"].Math))\n",
    "print(stats.ttest_ind(sp[sp[\"Lunch\"]==\"standard\"].Reading, sp[sp[\"Lunch\"]==\"free/reduced\"].Reading))\n",
    "print(stats.ttest_ind(sp[sp[\"Lunch\"]==\"standard\"].Writing, sp[sp[\"Lunch\"]==\"free/reduced\"].Writing))"
   ]
  },
  {
   "cell_type": "code",
   "execution_count": null,
   "metadata": {},
   "outputs": [],
   "source": [
    "#Kaggle üzerindeki \"Students Performance in Exams\"ne ait bir takım verileri inceleyeceksiniz.\n",
    "#Birbiriyle korelasyonu en fazla olan dersler hangisidir?\n",
    "\n",
    "plt.figure(figsize=(8,4))\n",
    "sns.heatmap(sp.corr(), square=True, annot=True, linewidths=.5, vmin=0, vmax=1, cmap='viridis')\n",
    "plt.show()\n",
    "\n",
    "sp.corr()"
   ]
  }
 ],
 "metadata": {
  "kernelspec": {
   "display_name": "Python 3",
   "language": "python",
   "name": "python3"
  },
  "language_info": {
   "codemirror_mode": {
    "name": "ipython",
    "version": 3
   },
   "file_extension": ".py",
   "mimetype": "text/x-python",
   "name": "python",
   "nbconvert_exporter": "python",
   "pygments_lexer": "ipython3",
   "version": "3.7.4"
  }
 },
 "nbformat": 4,
 "nbformat_minor": 4
}
