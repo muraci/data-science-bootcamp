{
 "cells": [
  {
   "cell_type": "code",
   "execution_count": null,
   "metadata": {},
   "outputs": [],
   "source": [
    "#ABD Eğitim Sistemi veri seti üzerinden, notların ağırlıklı ortalamasını içeren bir değişken oluşturun. \n",
    "#4. sınıftaki öğrencilerin sayısı ile 8. sınıftaki öğrencilerin sayısı farklı olduğuna dikkat edin.\n",
    "\n",
    "#nan değerler interpolasyon yöntemiyle doldurulur\n",
    "for total in [\"GRADES_4_G\",\"GRADES_8_G\",\"AVG_MATH_4_SCORE\",\"AVG_MATH_8_SCORE\",\"AVG_READING_4_SCORE\",\"AVG_READING_8_SCORE\"]:\n",
    "    state_list=list(st.STATE.unique())  #tekrar etmeyen değerler\n",
    "    i=0\n",
    "    l=len(state_list)\n",
    "    while i<l:  #her eyalet için NaN değerler doldurulur\n",
    "        st[st[\"STATE\"]==state_list[i]][total].interpolate().ffill().bfill()\n",
    "        i+=1\n",
    "    st=st.dropna(subset=[total])  #NaN olan satırlar bırakılır\n",
    "\n",
    "st[\"AVG_MATH\"]=(st[\"GRADES_4_G\"]*st[\"AVG_MATH_4_SCORE\"]+st[\"GRADES_8_G\"]*st[\"AVG_MATH_8_SCORE\"])/(st[\"GRADES_4_G\"]+st[\"GRADES_8_G\"])\n",
    "st[\"AVG_READING\"]=(st[\"GRADES_4_G\"]*st[\"AVG_READING_4_SCORE\"]+st[\"GRADES_8_G\"]*st[\"AVG_READING_8_SCORE\"])/(st[\"GRADES_4_G\"]+st[\"GRADES_8_G\"])"
   ]
  },
  {
   "cell_type": "code",
   "execution_count": null,
   "metadata": {},
   "outputs": [],
   "source": [
    "#ABD Eğitim Sistemi veri seti üzerinden, oluşturulan ağırlıklı ortalamalara göre harcama çeşitlerinin korelasyonu nedir? \n",
    "#Hangi harcama kaleminin korelasyonu diğerlerine göre fazladır?\n",
    "\n",
    "st_exp = st.iloc[:,9:13]  #EXP sutunları seçilir\n",
    "cor1 = pd.concat([st_exp, st.AVG_MATH, st.AVG_READING], axis=1, join='inner')\n",
    "\n",
    "plt.figure(figsize=(9,6))\n",
    "sns.heatmap(cor1.corr(), square=True, annot=True, linewidths=.5, vmin=0, vmax=1, cmap='viridis')\n",
    "plt.show()"
   ]
  },
  {
   "cell_type": "code",
   "execution_count": null,
   "metadata": {},
   "outputs": [],
   "source": [
    "#ABD Eğitim Sistemi veri seti üzerinden, dört harcama kalemi için Temel Bileşenler Analizi (PCA) uygulayın! \n",
    "#Toplam varyansın ne kadarı ilk bileşen tarafından açıklanabilmektedir?\n",
    "\n",
    "st_exp = st_exp.dropna(subset=[\"OTHER_EXPENDITURE\"])  #NaN değerler bırakılır\n",
    "\n",
    "pca = PCA(n_components=4)  #PCA değerleri oluşturulur\n",
    "pca.fit(st_exp)\n",
    "components = pca.transform(st_exp)\n",
    "\n",
    "print(pca.explained_variance_ratio_)  #en yüksek varyans seçilir (PCA1)\n",
    "print(sum(pca.explained_variance_ratio_))   #yaklaşık 1 olması beklenir\n",
    "print(components.T[0])  #PCA1 değerlerini yazdırır\n",
    "PCA1 = components.T[0]  #dizilerden PCA1 değerleri seçilir"
   ]
  },
  {
   "cell_type": "code",
   "execution_count": null,
   "metadata": {},
   "outputs": [],
   "source": [
    "#ABD Eğitim Sistemi veri seti üzerinden, oluşturduğunuz genel not ortalaması ve ilk temel bileşen arasındaki korelasyon nedir?\n",
    "\n",
    "cor1 = cor1.reset_index(drop=True)  #birleştirme için index sıfırlanır\n",
    "\n",
    "co_exp = pd.DataFrame()\n",
    "co_exp[\"PCA1\"] = pd.DataFrame(PCA1)[0]   #PCA değerleri dataframe aktarılır\n",
    "cor2 = pd.concat([co_exp, cor1], axis=1)  \n",
    "\n",
    "plt.figure(figsize=(9,6))\n",
    "sns.heatmap(cor2.corr(), square=True, annot=True, linewidths=.5, vmin=0, vmax=1, cmap='viridis')\n",
    "plt.show()"
   ]
  }
 ],
 "metadata": {
  "kernelspec": {
   "display_name": "Python 3",
   "language": "python",
   "name": "python3"
  },
  "language_info": {
   "codemirror_mode": {
    "name": "ipython",
    "version": 3
   },
   "file_extension": ".py",
   "mimetype": "text/x-python",
   "name": "python",
   "nbconvert_exporter": "python",
   "pygments_lexer": "ipython3",
   "version": "3.7.4"
  }
 },
 "nbformat": 4,
 "nbformat_minor": 4
}
