{
 "cells": [
  {
   "cell_type": "code",
   "execution_count": null,
   "metadata": {},
   "outputs": [],
   "source": [
    "#ABD Eğitim Sistemi veri seti üzerinden, bir eyaleti ele alın.\n",
    "#Toplam gelirleri ile toplam harcamalarının yıllara göre değişiminin doğru grafiğini çizin.\n",
    "\n",
    "plt.figure(figsize=(15,5))\n",
    "st_california = st[st['STATE']=='CALIFORNIA']\n",
    "plt.plot(st_california['YEAR'], st_california['TOTAL_REVENUE'], label='TOTAL_REVENUE')\n",
    "plt.plot(st_california['YEAR'], st_california['TOTAL_EXPENDITURE'], label='TOTAL_EXPENDITURE')\n",
    "plt.title('CALIFORNIA')\n",
    "plt.legend()\n",
    "\n",
    "plt.show()"
   ]
  },
  {
   "cell_type": "code",
   "execution_count": null,
   "metadata": {},
   "outputs": [],
   "source": [
    "#ABD Eğitim Sistemi veri seti üzerinden, seçtiğiniz eyalette göre, öğrenciler hangi derste daha başarılı? Matematik mi yoksa okuma mı?\n",
    "#Matematik ve okuma notlarının dağılımı nedir?\n",
    "\n",
    "st_california = st[st['STATE']=='CALIFORNIA']\n",
    "for score in [\"AVG_MATH_4_SCORE\",\"AVG_MATH_8_SCORE\",\"AVG_READING_4_SCORE\",\"AVG_READING_8_SCORE\"]:\n",
    "    st_california[score]=st_california[score].interpolate(method='polynomial', order=3, limit_direction='both').ffill().bfill()\n",
    "\n",
    "st_california.describe()"
   ]
  },
  {
   "cell_type": "code",
   "execution_count": null,
   "metadata": {},
   "outputs": [],
   "source": [
    "#ABD Eğitim Sistemi veri seti üzerinden, seçtiğiniz eyalette göre, AVG değelerinin normal dağılımını inceleyelim\n",
    "\n",
    "avg_score = [\"AVG_MATH_4_SCORE\",\"AVG_MATH_8_SCORE\",\"AVG_READING_4_SCORE\",\"AVG_READING_8_SCORE\"]\n",
    "plt.figure(figsize=(16,9))\n",
    "\n",
    "for i in range(4):\n",
    "    norm_avg = np.random.normal(st_california[avg_score[i]], 1, st_california[avg_score[i]].shape[0])\n",
    "    plt.subplot(2, 2, i+1)\n",
    "    plt.title(avg_score[i])\n",
    "    plt.xlabel(\"Veri Kümesi\")\n",
    "    plt.ylabel(\"Normal Dağılım\")\n",
    "    plt.scatter(st_california[avg_score[i]], norm_avg)\n",
    "    plt.plot([np.min(st_california[avg_score[i]]), np.max(st_california[avg_score[i]])],[np.min(norm_avg), np.max(norm_avg)], c='r')\n",
    "    plt.tight_layout()"
   ]
  }
 ],
 "metadata": {
  "kernelspec": {
   "display_name": "Python 3",
   "language": "python",
   "name": "python3"
  },
  "language_info": {
   "codemirror_mode": {
    "name": "ipython",
    "version": 3
   },
   "file_extension": ".py",
   "mimetype": "text/x-python",
   "name": "python",
   "nbconvert_exporter": "python",
   "pygments_lexer": "ipython3",
   "version": "3.7.4"
  }
 },
 "nbformat": 4,
 "nbformat_minor": 4
}
