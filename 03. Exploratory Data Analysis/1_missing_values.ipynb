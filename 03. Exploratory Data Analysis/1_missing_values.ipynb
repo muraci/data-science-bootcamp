{
 "cells": [
  {
   "cell_type": "code",
   "execution_count": null,
   "metadata": {},
   "outputs": [],
   "source": [
    "#Kaggle üzerindeki ABD Eğitim Sistemi'ne ait bir takım verileri inceleyeceksiniz.\n",
    "#Veri kümesinde yer alan değişkenlerinin tiplerini ve her bir değişkenin eksik (null) değer oranını bulun.\n",
    "\n",
    "import pandas as pd\n",
    "import numpy as np\n",
    "\n",
    "st = pd.read_csv(\"states_all.csv\")\n",
    "st.info()\n",
    "st.isnull().sum()*100/st.shape[0]"
   ]
  },
  {
   "cell_type": "code",
   "execution_count": null,
   "metadata": {},
   "outputs": [],
   "source": [
    "#ABD Eğitim Sistemi veri seti üzerinden, eksik değerleri bir değerle doldurmak hangi değişkenler için anlamlı olur?\n",
    "#Yıl değerini kullanmadan, yıl değerini kullanarak ortalama değer aracılığıyla ve interpolasyon yöntemiyle doldurun\n",
    "\n",
    "import pandas as pd\n",
    "import numpy as np\n",
    "\n",
    "st = pd.read_csv(\"states_all.csv\")\n",
    "\n",
    "st.AVG_MATH_4_SCORE.mean()  #Sutun ortalamsı\n",
    "st.groupby(\"YEAR\")[\"AVG_MATH_4_SCORE\"].mean()  #Yıl gruplu sutun ortalaması\n",
    "st[st[\"STATE\"]==\"CALIFORNIA\"].AVG_MATH_4_SCORE.mean()  #State seçili sutun ortalaması\n",
    "st[st[\"STATE\"]==\"CALIFORNIA\"].AVG_MATH_4_SCORE.interpolate()  #State seçili sutun interpozesi"
   ]
  },
  {
   "cell_type": "code",
   "execution_count": null,
   "metadata": {},
   "outputs": [],
   "source": [
    "#Yıl değerini kullanarak ortalama değer aracılığıyla ve interpolasyon yöntemiyle doldurun\n",
    "\n",
    "st = pd.read_csv(\"states_all.csv\")\n",
    "\n",
    "for total in [\"TOTAL_REVENUE\",\"TOTAL_EXPENDITURE\"]:\n",
    "    state_list=list(st.STATE.unique())  #tekrar etmeyen değerler\n",
    "    i=0\n",
    "    l=len(state_list)\n",
    "    while i<l:  #her eyalet için NaN değerler doldurulur\n",
    "        st[total].fillna(st[st[\"STATE\"]==state_list[i]][total].interpolate(method='polynomial', order=3, limit_direction='both').ffill().bfill(), inplace=True)\n",
    "        i+=1\n",
    "    st=st.dropna(subset=[total])  #NaN olan satırlar bırakılır"
   ]
  }
 ],
 "metadata": {
  "kernelspec": {
   "display_name": "Python 3",
   "language": "python",
   "name": "python3"
  },
  "language_info": {
   "codemirror_mode": {
    "name": "ipython",
    "version": 3
   },
   "file_extension": ".py",
   "mimetype": "text/x-python",
   "name": "python",
   "nbconvert_exporter": "python",
   "pygments_lexer": "ipython3",
   "version": "3.7.4"
  }
 },
 "nbformat": 4,
 "nbformat_minor": 4
}
