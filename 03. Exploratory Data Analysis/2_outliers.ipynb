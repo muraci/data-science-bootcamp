{
 "cells": [
  {
   "cell_type": "code",
   "execution_count": null,
   "metadata": {},
   "outputs": [],
   "source": [
    "#ABD Eğitim Sistemi veri seti üzerinden, TOTAL_REVENUE ve TOTAL_EXPENDITURE sutunlarında yer alan aşırı değerleri inceleyin\n",
    "#Bütçe açığını, aykırı değerleri temizledikten önce ve sonra bulun\n",
    "\n",
    "#Aşırı değerler tespit edililir\n",
    "\n",
    "for total in [\"TOTAL_REVENUE\",\"TOTAL_EXPENDITURE\"]:\n",
    "    plt.figure(figsize=(30,5))\n",
    "    plt.subplot(151)\n",
    "    plt.boxplot(st[total], whis=5)\n",
    "    plt.title(\"Whis=5\")\n",
    "    plt.ylabel(total)\n",
    "    plt.subplot(152)\n",
    "    plt.hist(st[total], bins=50)\n",
    "    plt.title(\"Normal\")\n",
    "    plt.subplot(153)\n",
    "    plt.hist(winsorize(st[total], (0, 0.05)), bins=50)\n",
    "    plt.title(\"Winsorize\")\n",
    "    plt.subplot(154)\n",
    "    plt.hist(np.log(st[total]),bins=50)\n",
    "    plt.title(\"With Log\")\n",
    "    plt.subplot(155)\n",
    "    plt.boxplot(np.log(st[total]))\n",
    "    plt.title(\"With Log\")\n",
    "    plt.show()"
   ]
  },
  {
   "cell_type": "code",
   "execution_count": null,
   "metadata": {},
   "outputs": [],
   "source": [
    "#Aykırı değerler, eşik değerine göre incelenir\n",
    "\n",
    "for total in [\"TOTAL_REVENUE\",\"TOTAL_EXPENDITURE\"]:\n",
    "    q75log, q25log = np.percentile(np.log(st[total]), [75 ,25])\n",
    "    iqrlog = q75log - q25log\n",
    "    q75, q25 = np.percentile(st[total], [75 ,25])\n",
    "    iqr = q75 - q25\n",
    "    thvlog=pd.DataFrame(columns=['THH','Count','Count -log'])\n",
    "    for thh in np.arange(1,5,0.5):\n",
    "        lminlog = len(np.where((q25log - (iqrlog*thh)) > (np.log(st[total])))[0])\n",
    "        lmaxlog = len(np.where((q75log + (iqrlog*thh)) < (np.log(st[total])))[0])\n",
    "        lmin = len(np.where((q25 - (iqr*thh)) > st[total])[0])\n",
    "        lmax = len(np.where((q75 + (iqr*thh)) < st[total])[0])\n",
    "        thvlog = thvlog.append({'THH': thh,'Count': lmin+lmax,'Count -log': lminlog+lmaxlog},ignore_index=True)\n",
    "    \n",
    "    thvlog.plot(x = 'THH', y=['Count -log', 'Count'])\n",
    "    plt.title(total)\n",
    "    plt.ylabel('Aykırı Değer Sayısı')\n",
    "    plt.xlabel('Eşik Değeri')\n",
    "    plt.legend(('Logaritmik dönüşümlü', 'Normal'))\n",
    "    plt.show()"
   ]
  },
  {
   "cell_type": "code",
   "execution_count": null,
   "metadata": {},
   "outputs": [],
   "source": [
    "#Bütçe açığı kontrol edilir ve sınırlandırılır\n",
    "\n",
    "st[\"TOTAL\"]=st[\"TOTAL_REVENUE\"] - st[\"TOTAL_EXPENDITURE\"]\n",
    "st[\"TOTAL_LOG\"]=np.log(st[\"TOTAL_REVENUE\"]) - np.log(st[\"TOTAL_EXPENDITURE\"])\n",
    "\n",
    "for total in [\"TOTAL\",\"TOTAL_LOG\"]:\n",
    "    plt.figure(figsize=(30,5))\n",
    "    plt.subplot(131)\n",
    "    plt.hist(st[total], bins=75)\n",
    "    plt.ylabel(total)\n",
    "    plt.subplot(132)\n",
    "    plt.boxplot(st[total], whis=5)\n",
    "    plt.subplot(133)\n",
    "    plt.hist(winsorize(st[total], (0, 0.05)), bins=75)\n",
    "    plt.title(\"Winsorize\")\n",
    "    plt.show()"
   ]
  }
 ],
 "metadata": {
  "kernelspec": {
   "display_name": "Python 3",
   "language": "python",
   "name": "python3"
  },
  "language_info": {
   "codemirror_mode": {
    "name": "ipython",
    "version": 3
   },
   "file_extension": ".py",
   "mimetype": "text/x-python",
   "name": "python",
   "nbconvert_exporter": "python",
   "pygments_lexer": "ipython3",
   "version": "3.7.4"
  }
 },
 "nbformat": 4,
 "nbformat_minor": 4
}
