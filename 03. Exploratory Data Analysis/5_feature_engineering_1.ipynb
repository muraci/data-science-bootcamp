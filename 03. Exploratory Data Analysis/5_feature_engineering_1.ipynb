{
 "cells": [
  {
   "cell_type": "code",
   "execution_count": null,
   "metadata": {},
   "outputs": [],
   "source": [
    "#Kaggle üzerindeki \"Students Performance in Exams\"ne ait bir takım verileri inceleyeceksiniz.\n",
    "#Sınav sonuçları normal dağılımlı mıdır? Değilse normal dağılıma sahip hale getirmek için ne yapabiliriz?\n",
    "\n",
    "#>>>1\n",
    "plt.figure(figsize=(18,8))\n",
    "variable = ['Math', 'Reading', 'Writing']\n",
    "\n",
    "for i in range(3):\n",
    "    plt.subplot(2, 3, i+1)\n",
    "    plt.hist(sp[variable[i]],bins=50)\n",
    "    plt.title(variable[i])\n",
    "\n",
    "for i in range(3):\n",
    "    plt.subplot(2, 3, i+4)\n",
    "    plt.hist(np.log(sp[variable[i]]),bins=50)\n",
    "    plt.title(variable[i]+ \" -log\")\n",
    "    \n",
    "plt.tight_layout()"
   ]
  },
  {
   "cell_type": "code",
   "execution_count": null,
   "metadata": {},
   "outputs": [],
   "source": [
    "#>>>2\n",
    "from scipy.stats import jarque_bera\n",
    "from scipy.stats import normaltest\n",
    "\n",
    "#log dönüşümü olmayan grafik daha uygun görünüyor (p-değeri 0'a daha yakın)\n",
    "\n",
    "print(\"Math >>>\", jarque_bera(np.log(sp[\"Math\"])))\n",
    "print(\"Reading >>>\", jarque_bera(np.log(sp[\"Reading\"])))\n",
    "print(\"Writing >>>\", jarque_bera(np.log(sp[\"Writing\"])))\n",
    "\n",
    "print(\"Math >>>\", normaltest(np.log(sp[\"Math\"])))\n",
    "print(\"Reading >>>\", normaltest(np.log(sp[\"Reading\"])))\n",
    "print(\"Writing >>>\", normaltest(np.log(sp[\"Writing\"])))"
   ]
  },
  {
   "cell_type": "code",
   "execution_count": null,
   "metadata": {},
   "outputs": [],
   "source": [
    "#>>>3\n",
    "from sklearn.preprocessing import normalize\n",
    "from sklearn.preprocessing import scale\n",
    "\n",
    "plt.figure(figsize=(15,8))\n",
    "\n",
    "variable = ['Math', 'Reading', 'Writing']\n",
    "\n",
    "for i in range(3):\n",
    "    plt.subplot(2,3,i+1)\n",
    "    wdizi = np.array(sp[variable[i]]).reshape(1,-1)\n",
    "    plt.scatter(sp[variable[i]],normalize(wdizi))\n",
    "    plt.title(\"Normalize {} \".format(variable[i]))\n",
    "    \n",
    "for i in range(3):\n",
    "    plt.subplot(2,3,i+4)\n",
    "    plt.scatter(sp[variable[i]],scale(sp[variable[i]]))\n",
    "    plt.title(\"Standartize {} \".format(variable[i]))\n",
    "    \n",
    "plt.tight_layout()"
   ]
  },
  {
   "cell_type": "code",
   "execution_count": null,
   "metadata": {},
   "outputs": [],
   "source": [
    "#Kaggle üzerindeki \"Students Performance in Exams\"ne ait bir takım verileri inceleyeceksiniz.\n",
    "#Üç sınavın ortalamasını içeren yeni bir değişken tanımlayın. Bu yeni değişkenin ortalamasının normal dağılımlı olup olmadığını test edin.\n",
    "\n",
    "#>>>1\n",
    "ort = [] \n",
    "for i in range(len(sp)):\n",
    "    avg=(sp.Math[i]+sp.Reading[i]+sp.Writing[i])/3\n",
    "    ort.append(float(format(avg, '.2f')))\n",
    "sp[\"Avg\"] = ort\n",
    "\n",
    "#pd.options.display.float_format = '{:.2f}'.format\n",
    "#sp[\"Avg\"]=(sp.Math[i]+sp.Reading[i]+sp.Writing[i])/3"
   ]
  },
  {
   "cell_type": "code",
   "execution_count": null,
   "metadata": {},
   "outputs": [],
   "source": [
    "#>>>2\n",
    "plt.figure(figsize=(10,4))\n",
    "\n",
    "plt.subplot(1,2,1)\n",
    "plt.hist(sp[\"Avg\"],bins=50)\n",
    "plt.title(\"Avg\")\n",
    "\n",
    "plt.subplot(1,2,2)\n",
    "plt.hist(np.log(sp[\"Avg\"]),bins=50)\n",
    "plt.title(\"Avg\" + \" -log\")\n",
    "    \n",
    "plt.tight_layout()"
   ]
  },
  {
   "cell_type": "code",
   "execution_count": null,
   "metadata": {},
   "outputs": [],
   "source": [
    "#>>>3\n",
    "print(\"Avg >>>\", jarque_bera(np.log(sp[\"Avg\"])))\n",
    "print(\"Avg >>>\", normaltest(np.log(sp[\"Avg\"])))\n",
    "\n",
    "plt.figure(figsize=(10,4))\n",
    "\n",
    "plt.subplot(1,2,1)\n",
    "plt.scatter(sp[\"Avg\"],scale(sp[\"Avg\"]))\n",
    "\n",
    "plt.subplot(1,2,2)\n",
    "plt.scatter(sp[\"Avg\"],normalize(np.array(sp[\"Avg\"]).reshape(1,-1)))\n",
    "\n",
    "plt.show()"
   ]
  },
  {
   "cell_type": "code",
   "execution_count": null,
   "metadata": {},
   "outputs": [],
   "source": [
    "#Kaggle üzerindeki \"Students Performance in Exams\"ne ait bir takım verileri inceleyeceksiniz.\n",
    "#Bir önceki soruda oluşturduğumuz hedef değişkeni ile hangi değişkenler ilişkili görünüyor?\n",
    "#Eğer amacımız sınav başarısını belirleyen etkenleri açıklamak olsaydı hangi değişkenleri veri kümemizde tutmamız gerekirdi?\n",
    "\n",
    "plt.figure(figsize=(8,4))\n",
    "sns.heatmap(sp.corr(), square=True, annot=True, linewidths=.5, vmin=0, vmax=1, cmap='viridis')\n",
    "plt.show()"
   ]
  }
 ],
 "metadata": {
  "kernelspec": {
   "display_name": "Python 3",
   "language": "python",
   "name": "python3"
  },
  "language_info": {
   "codemirror_mode": {
    "name": "ipython",
    "version": 3
   },
   "file_extension": ".py",
   "mimetype": "text/x-python",
   "name": "python",
   "nbconvert_exporter": "python",
   "pygments_lexer": "ipython3",
   "version": "3.7.4"
  }
 },
 "nbformat": 4,
 "nbformat_minor": 4
}
