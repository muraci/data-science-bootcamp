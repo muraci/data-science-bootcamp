{
 "cells": [
  {
   "cell_type": "markdown",
   "metadata": {},
   "source": [
    "_Kalp krizi riski'ne ilişkin veri kümesini kullanarak:_\n",
    "- _Üç farklı linkage yöntemini kullanarak kalp hastalığı veri kümesi için dendrogramlar üretin: “average”, “complete” ve “ward”. Sizce hangi bağlantı yöntemi daha iyi sonuç vermektedir?_\n",
    "- _n_clusters = 2 ayarını yaparak kalp hastalığı verilerine yığınsal kümeleme uygulayın. Yukarıdaki üç bağlantı yöntemini deneyin ve her bir çözümünüz için ARI ve siluet skorları elde edin. Sonuçları birbirleriyle ve önceki bölümde uyguladığınız k-ortalama çözümü ile karşılaştırın. Hangi algoritma ve ayar daha iyi performans gösterir?_"
   ]
  },
  {
   "cell_type": "code",
   "execution_count": 1,
   "metadata": {},
   "outputs": [],
   "source": [
    "import numpy as np\n",
    "import pandas as pd\n",
    "import matplotlib.pyplot as plt\n",
    "\n",
    "from sklearn import metrics\n",
    "from sklearn.preprocessing import StandardScaler\n",
    "from sklearn.decomposition import PCA\n",
    "from scipy.cluster.hierarchy import dendrogram, linkage\n",
    "from sklearn.cluster import AgglomerativeClustering"
   ]
  },
  {
   "cell_type": "code",
   "execution_count": 2,
   "metadata": {},
   "outputs": [
    {
     "data": {
      "text/html": [
       "<div>\n",
       "<style scoped>\n",
       "    .dataframe tbody tr th:only-of-type {\n",
       "        vertical-align: middle;\n",
       "    }\n",
       "\n",
       "    .dataframe tbody tr th {\n",
       "        vertical-align: top;\n",
       "    }\n",
       "\n",
       "    .dataframe thead th {\n",
       "        text-align: right;\n",
       "    }\n",
       "</style>\n",
       "<table border=\"1\" class=\"dataframe\">\n",
       "  <thead>\n",
       "    <tr style=\"text-align: right;\">\n",
       "      <th></th>\n",
       "      <th>age</th>\n",
       "      <th>sex</th>\n",
       "      <th>cp</th>\n",
       "      <th>trestbps</th>\n",
       "      <th>chol</th>\n",
       "      <th>fbs</th>\n",
       "      <th>restecg</th>\n",
       "      <th>thalach</th>\n",
       "      <th>exang</th>\n",
       "      <th>oldpeak</th>\n",
       "      <th>slope</th>\n",
       "      <th>ca</th>\n",
       "      <th>thal</th>\n",
       "      <th>num</th>\n",
       "    </tr>\n",
       "  </thead>\n",
       "  <tbody>\n",
       "    <tr>\n",
       "      <th>0</th>\n",
       "      <td>63</td>\n",
       "      <td>1</td>\n",
       "      <td>1</td>\n",
       "      <td>145</td>\n",
       "      <td>233</td>\n",
       "      <td>1</td>\n",
       "      <td>2</td>\n",
       "      <td>150</td>\n",
       "      <td>0</td>\n",
       "      <td>2.3</td>\n",
       "      <td>3</td>\n",
       "      <td>0</td>\n",
       "      <td>6</td>\n",
       "      <td>0</td>\n",
       "    </tr>\n",
       "    <tr>\n",
       "      <th>1</th>\n",
       "      <td>37</td>\n",
       "      <td>1</td>\n",
       "      <td>3</td>\n",
       "      <td>130</td>\n",
       "      <td>250</td>\n",
       "      <td>0</td>\n",
       "      <td>0</td>\n",
       "      <td>187</td>\n",
       "      <td>0</td>\n",
       "      <td>3.5</td>\n",
       "      <td>3</td>\n",
       "      <td>0</td>\n",
       "      <td>3</td>\n",
       "      <td>0</td>\n",
       "    </tr>\n",
       "    <tr>\n",
       "      <th>2</th>\n",
       "      <td>41</td>\n",
       "      <td>0</td>\n",
       "      <td>2</td>\n",
       "      <td>130</td>\n",
       "      <td>204</td>\n",
       "      <td>0</td>\n",
       "      <td>2</td>\n",
       "      <td>172</td>\n",
       "      <td>0</td>\n",
       "      <td>1.4</td>\n",
       "      <td>1</td>\n",
       "      <td>0</td>\n",
       "      <td>3</td>\n",
       "      <td>0</td>\n",
       "    </tr>\n",
       "  </tbody>\n",
       "</table>\n",
       "</div>"
      ],
      "text/plain": [
       "   age  sex  cp  trestbps  chol  fbs  restecg  thalach  exang  oldpeak  slope  \\\n",
       "0   63    1   1       145   233    1        2      150      0      2.3      3   \n",
       "1   37    1   3       130   250    0        0      187      0      3.5      3   \n",
       "2   41    0   2       130   204    0        2      172      0      1.4      1   \n",
       "\n",
       "   ca  thal  num  \n",
       "0   0     6    0  \n",
       "1   0     3    0  \n",
       "2   0     3    0  "
      ]
     },
     "execution_count": 2,
     "metadata": {},
     "output_type": "execute_result"
    }
   ],
   "source": [
    "df = pd.read_excel('heart.xlsx')\n",
    "df['ca'] = df.ca.replace('<null>', 0)\n",
    "df['thal'] = df.thal.replace('<null>', 3)\n",
    "df['num'] = df.num.replace({'positive':1, \"negative\":0})\n",
    "df.head(3)"
   ]
  },
  {
   "cell_type": "code",
   "execution_count": 3,
   "metadata": {},
   "outputs": [],
   "source": [
    "y = df.num\n",
    "x = df.drop('num', axis=1)\n",
    "\n",
    "scaler = StandardScaler()\n",
    "x_std = scaler.fit_transform(x)\n",
    "\n",
    "x_pca = PCA(n_components = 2).fit_transform(x_std)"
   ]
  },
  {
   "cell_type": "code",
   "execution_count": 4,
   "metadata": {},
   "outputs": [
    {
     "data": {
      "image/png": "[encoded data removed]",
      "text/plain": [
       "<Figure size 1296x288 with 3 Axes>"
      ]
     },
     "metadata": {
      "needs_background": "light"
     },
     "output_type": "display_data"
    }
   ],
   "source": [
    "plt.figure(figsize=(18,4))\n",
    "for num, lk in enumerate(['complete', 'ward', 'average'], 1):\n",
    "    plt.subplot(1, 3, num)\n",
    "    dendrogram(linkage(x_pca, method = lk))\n",
    "    plt.title(lk)"
   ]
  },
  {
   "cell_type": "code",
   "execution_count": 5,
   "metadata": {},
   "outputs": [
    {
     "data": {
      "text/html": [
       "<div>\n",
       "<style scoped>\n",
       "    .dataframe tbody tr th:only-of-type {\n",
       "        vertical-align: middle;\n",
       "    }\n",
       "\n",
       "    .dataframe tbody tr th {\n",
       "        vertical-align: top;\n",
       "    }\n",
       "\n",
       "    .dataframe thead th {\n",
       "        text-align: right;\n",
       "    }\n",
       "</style>\n",
       "<table border=\"1\" class=\"dataframe\">\n",
       "  <thead>\n",
       "    <tr style=\"text-align: right;\">\n",
       "      <th></th>\n",
       "      <th>ari</th>\n",
       "      <th>silhouette</th>\n",
       "    </tr>\n",
       "  </thead>\n",
       "  <tbody>\n",
       "    <tr>\n",
       "      <th>l1_complete</th>\n",
       "      <td>0.337350</td>\n",
       "      <td>0.297754</td>\n",
       "    </tr>\n",
       "    <tr>\n",
       "      <th>l2_complete</th>\n",
       "      <td>0.454083</td>\n",
       "      <td>0.286047</td>\n",
       "    </tr>\n",
       "    <tr>\n",
       "      <th>cosine_complete</th>\n",
       "      <td>0.112558</td>\n",
       "      <td>0.230920</td>\n",
       "    </tr>\n",
       "    <tr>\n",
       "      <th>euclidean_ward</th>\n",
       "      <td>0.122128</td>\n",
       "      <td>0.181883</td>\n",
       "    </tr>\n",
       "    <tr>\n",
       "      <th>l1_average</th>\n",
       "      <td>-0.009815</td>\n",
       "      <td>0.272969</td>\n",
       "    </tr>\n",
       "    <tr>\n",
       "      <th>l2_average</th>\n",
       "      <td>-0.009815</td>\n",
       "      <td>0.272969</td>\n",
       "    </tr>\n",
       "    <tr>\n",
       "      <th>cosine_average</th>\n",
       "      <td>0.005820</td>\n",
       "      <td>0.219778</td>\n",
       "    </tr>\n",
       "  </tbody>\n",
       "</table>\n",
       "</div>"
      ],
      "text/plain": [
       "                      ari  silhouette\n",
       "l1_complete      0.337350    0.297754\n",
       "l2_complete      0.454083    0.286047\n",
       "cosine_complete  0.112558    0.230920\n",
       "euclidean_ward   0.122128    0.181883\n",
       "l1_average      -0.009815    0.272969\n",
       "l2_average      -0.009815    0.272969\n",
       "cosine_average   0.005820    0.219778"
      ]
     },
     "execution_count": 5,
     "metadata": {},
     "output_type": "execute_result"
    }
   ],
   "source": [
    "dflabel = pd.DataFrame()\n",
    "for lk in ['complete', 'ward', 'average']:\n",
    "    if lk == 'ward':\n",
    "        y_label = AgglomerativeClustering(linkage = lk, affinity = 'euclidean', n_clusters = 2).fit_predict(x_std)\n",
    "        dflabel = dflabel.append(pd.DataFrame({'ari' : metrics.adjusted_rand_score(y, y_label),\n",
    "                                               'silhouette': metrics.silhouette_score(x_pca, y_label)},\n",
    "                                                index = ['euclidean_'+str(lk)]))\n",
    "    else:\n",
    "        for aff in ['l1', 'l2', 'cosine']:\n",
    "            y_label = AgglomerativeClustering(linkage = lk, affinity = aff, n_clusters = 2).fit_predict(x_std)\n",
    "            dflabel = dflabel.append(pd.DataFrame({'ari' : metrics.adjusted_rand_score(y, y_label),\n",
    "                                                   'silhouette': metrics.silhouette_score(x_pca, y_label)},\n",
    "                                                    index = [str(aff)+'_'+str(lk)]))\n",
    "dflabel"
   ]
  },
  {
   "cell_type": "markdown",
   "metadata": {},
   "source": [
    "- label_2 > 0.067444 - 0.366772 (kmeans)\n",
    "* ARI değerinin yüksek sonuçlanması beklenir. Silhouette değeri ise (-1,1) aralığında değer almaktadır, yüksek değerler nesnenin kendi kümesiyle iyi eşleştiğini ve komşu kümelerle zayıf eşleştiğini göstermektedir.\n",
    "\n",
    "> Hiyerarşik yöntem, kmeans yöntemine göre daha düşük performans gösterdi.\n",
    "> Kullanılan linkage ve affinity parametreleri arasından en iyi skoru l1_complete ve l2_complete elde etti.\n",
    "\n",
    "\n",
    "\n"
   ]
  }
 ],
 "metadata": {
  "kernelspec": {
   "display_name": "Python 3",
   "language": "python",
   "name": "python3"
  },
  "language_info": {
   "codemirror_mode": {
    "name": "ipython",
    "version": 3
   },
   "file_extension": ".py",
   "mimetype": "text/x-python",
   "name": "python",
   "nbconvert_exporter": "python",
   "pygments_lexer": "ipython3",
   "version": "3.7.7"
  }
 },
 "nbformat": 4,
 "nbformat_minor": 4
}
