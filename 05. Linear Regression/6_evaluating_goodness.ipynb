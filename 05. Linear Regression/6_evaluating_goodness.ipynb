{
 "cells": [
  {
   "cell_type": "markdown",
   "metadata": {},
   "source": [
    "#### _Ev Fiyatları_\n",
    "- _Ev fiyatları modelinizi tekrar çalıştırın ve F-testi, R-kare, ayarlanmış R-kare, AIC ve BIC kullanarak modelinizin uygunluğunu değerlendirin._\n",
    "- _Modelinizin tatmin edici olduğunu düşünüyor musunuz? Açıklayın_\n",
    "- _Modelinizin uygunluğunu iyileştirmek için, bazı değişkenleri ekleyerek veya kaldırarak farklı model özelliklerini deneyin._\n",
    "- _Denediğiniz her model için, uygun metrikleri alın ve modellerinizi birbiriyle karşılaştırın. Hangi model en iyisidir ve neden?_"
   ]
  },
  {
   "cell_type": "markdown",
   "metadata": {},
   "source": [
    "> Önceki ödevin üzerinden devam edilmiştir."
   ]
  },
  {
   "cell_type": "code",
   "execution_count": 11,
   "metadata": {},
   "outputs": [],
   "source": [
    "Y = dfc['SalePrice']\n",
    "col = [dfc[['OverallQual', 'GrLivArea', 'GarageArea']],\n",
    "       dfc[['OverallQual', 'GrLivArea', 'GarageArea', 'TotalBsmtSF', 'YearBuilt']],\n",
    "       dfc[['OverallQual', 'GrLivArea', 'GarageArea', 'TotalBsmtSF', '1stFlrSF', 'YearBuilt', 'YearRemodAdd']], \n",
    "       dfc[['OverallQual', 'GrLivArea', 'GarageArea', 'TotalBsmtSF', '1stFlrSF', 'TotRmsAbvGrd', 'YearRemodAdd']],\n",
    "       dfc[['OverallQual', 'GrLivArea', 'GarageCars', 'GarageArea',\n",
    "       'TotalBsmtSF', '1stFlrSF', 'FullBath', 'TotRmsAbvGrd', 'YearBuilt',\n",
    "       'YearRemodAdd', 'KitchenQual_Ex', 'Foundation_PConc', 'Fireplaces',\n",
    "       'ExterQual_Gd', 'ExterQual_Ex', 'HeatingQC_Ex', 'Neighborhood_NridgHt']]]"
   ]
  },
  {
   "cell_type": "code",
   "execution_count": 12,
   "metadata": {},
   "outputs": [
    {
     "data": {
      "text/html": [
       "<div>\n",
       "<style scoped>\n",
       "    .dataframe tbody tr th:only-of-type {\n",
       "        vertical-align: middle;\n",
       "    }\n",
       "\n",
       "    .dataframe tbody tr th {\n",
       "        vertical-align: top;\n",
       "    }\n",
       "\n",
       "    .dataframe thead th {\n",
       "        text-align: right;\n",
       "    }\n",
       "</style>\n",
       "<table border=\"1\" class=\"dataframe\">\n",
       "  <thead>\n",
       "    <tr style=\"text-align: right;\">\n",
       "      <th></th>\n",
       "      <th>model</th>\n",
       "      <th>rsq</th>\n",
       "      <th>rsq_adj</th>\n",
       "      <th>f_value</th>\n",
       "      <th>aic</th>\n",
       "      <th>bic</th>\n",
       "    </tr>\n",
       "  </thead>\n",
       "  <tbody>\n",
       "    <tr>\n",
       "      <th>1</th>\n",
       "      <td>model_1</td>\n",
       "      <td>0.739531</td>\n",
       "      <td>0.738994</td>\n",
       "      <td>1377.027157</td>\n",
       "      <td>35108.859741</td>\n",
       "      <td>35130.001768</td>\n",
       "    </tr>\n",
       "    <tr>\n",
       "      <th>2</th>\n",
       "      <td>model_2</td>\n",
       "      <td>0.766789</td>\n",
       "      <td>0.765987</td>\n",
       "      <td>955.483040</td>\n",
       "      <td>34951.581241</td>\n",
       "      <td>34983.294280</td>\n",
       "    </tr>\n",
       "    <tr>\n",
       "      <th>3</th>\n",
       "      <td>model_3</td>\n",
       "      <td>0.771128</td>\n",
       "      <td>0.770024</td>\n",
       "      <td>698.398147</td>\n",
       "      <td>34928.181788</td>\n",
       "      <td>34970.465840</td>\n",
       "    </tr>\n",
       "    <tr>\n",
       "      <th>4</th>\n",
       "      <td>model_4</td>\n",
       "      <td>0.766461</td>\n",
       "      <td>0.765335</td>\n",
       "      <td>680.300878</td>\n",
       "      <td>34957.630565</td>\n",
       "      <td>34999.914618</td>\n",
       "    </tr>\n",
       "    <tr>\n",
       "      <th>5</th>\n",
       "      <td>model_5</td>\n",
       "      <td>0.805508</td>\n",
       "      <td>0.803214</td>\n",
       "      <td>351.062428</td>\n",
       "      <td>34710.694190</td>\n",
       "      <td>34805.833308</td>\n",
       "    </tr>\n",
       "  </tbody>\n",
       "</table>\n",
       "</div>"
      ],
      "text/plain": [
       "     model       rsq   rsq_adj      f_value           aic           bic\n",
       "1  model_1  0.739531  0.738994  1377.027157  35108.859741  35130.001768\n",
       "2  model_2  0.766789  0.765987   955.483040  34951.581241  34983.294280\n",
       "3  model_3  0.771128  0.770024   698.398147  34928.181788  34970.465840\n",
       "4  model_4  0.766461  0.765335   680.300878  34957.630565  34999.914618\n",
       "5  model_5  0.805508  0.803214   351.062428  34710.694190  34805.833308"
      ]
     },
     "execution_count": 12,
     "metadata": {},
     "output_type": "execute_result"
    }
   ],
   "source": [
    "def perfstats(col, Y):\n",
    "    pf = pd.DataFrame(columns=['model', 'rsq', 'rsq_adj', 'f_value', 'aic', 'bic'])\n",
    "    for num,X in enumerate(col,1): \n",
    "        model = LinearRegression().fit(X, Y)\n",
    "        X = sm.add_constant(X)\n",
    "        results = sm.OLS(Y, X).fit()\n",
    "        pf.loc[num] = ('model_'+str(num) , results.rsquared, results.rsquared_adj, results.fvalue, results.aic, results.bic)\n",
    "    return pf\n",
    "\n",
    "perfstats(col, Y)"
   ]
  },
  {
   "cell_type": "markdown",
   "metadata": {},
   "source": [
    "- Modeller incelendiğinde, model_2'nin varyansın %80'ini açıkladığı görülmektedir. Bu sayı oldukca anlamlıdır, ama diğerleri ile arasında büyük bir fark yoktur.\n",
    "- model_1 haricinde f-değerlerini incelenirse, özellikce en büyük olan model_5 diğerlerine göre daha anlamlı görünüyor.\n",
    "- AIC ve BIC değerleri arasında çok büyük farklar olmamasına rağmen, en anlamlı sonucu model_4 veriyor."
   ]
  },
  {
   "cell_type": "markdown",
   "metadata": {},
   "source": [
    "### "
   ]
  },
  {
   "cell_type": "markdown",
   "metadata": {},
   "source": [
    "#### _Sıcaklık_\n",
    "- _Önceki derste olduğu gibi, hedef değişkeninizin görünür sıcaklık ve sıcaklık arasındaki fark olduğu bir doğrusal regresyon modeli oluşturun. Açıklayıcı değişkenler olarak nem ve rüzgar hızı kullanın. Şimdi, modelinizi OLS kullanarak tahmin edin. R-kare ve ayarlanmış R-kare değerleri nelerdir? Tatminkar olduklarını düşünüyor musunuz? Açıklayın._\n",
    "- _Daha sonra, yukarıdaki modele nem ve rüzgar hızı etkileşimini dahil edin ve OLS'yi kullanarak modeli tahmin edin. Şimdi, bu modelin R-kare değeri nedir? Bu model bir öncekine göre gelişti mi?_\n",
    "- _İlk modele ek açıklayıcı değişken olarak görünürlük ekleyin ve tahmin edin. R-kare arttı mı? Ayarlanmış R-kare değeri ne oldu? Tabloda ortaya çıkan farklılıkları, ayarlanmış R-kare içindeki iyileşme açısından etkileşim terimi ve görünürlük ile karşılaştırın. Hangisi daha kullanışlı?_\n",
    "- _AIC ve BIC puanlarına göre yukarıdaki üç modelden en iyisini seçin. Mentor ile gerekçenizi tartışarak seçiminizi doğrulayın._"
   ]
  },
  {
   "cell_type": "code",
   "execution_count": 14,
   "metadata": {},
   "outputs": [],
   "source": [
    "df = pd.read_csv(\"weatherHistory.csv\")"
   ]
  },
  {
   "cell_type": "code",
   "execution_count": 15,
   "metadata": {},
   "outputs": [],
   "source": [
    "df['HumidityWind'] = df['Humidity'] * df['Wind Speed (km/h)']\n",
    "col = [df[['Humidity', 'Wind Speed (km/h)']], \n",
    "       df[['Humidity', 'Wind Speed (km/h)', 'HumidityWind']], \n",
    "       df[['Humidity', 'Wind Speed (km/h)', 'Visibility (km)']]]\n",
    "Y = df['Temperature (C)'] - df['Apparent Temperature (C)']  "
   ]
  },
  {
   "cell_type": "code",
   "execution_count": 16,
   "metadata": {},
   "outputs": [
    {
     "data": {
      "text/html": [
       "<div>\n",
       "<style scoped>\n",
       "    .dataframe tbody tr th:only-of-type {\n",
       "        vertical-align: middle;\n",
       "    }\n",
       "\n",
       "    .dataframe tbody tr th {\n",
       "        vertical-align: top;\n",
       "    }\n",
       "\n",
       "    .dataframe thead th {\n",
       "        text-align: right;\n",
       "    }\n",
       "</style>\n",
       "<table border=\"1\" class=\"dataframe\">\n",
       "  <thead>\n",
       "    <tr style=\"text-align: right;\">\n",
       "      <th></th>\n",
       "      <th>model</th>\n",
       "      <th>rsq</th>\n",
       "      <th>rsq_adj</th>\n",
       "      <th>f_value</th>\n",
       "      <th>aic</th>\n",
       "      <th>bic</th>\n",
       "    </tr>\n",
       "  </thead>\n",
       "  <tbody>\n",
       "    <tr>\n",
       "      <th>1</th>\n",
       "      <td>model_1</td>\n",
       "      <td>0.287818</td>\n",
       "      <td>0.287804</td>\n",
       "      <td>19489.463165</td>\n",
       "      <td>340916.924942</td>\n",
       "      <td>340945.355376</td>\n",
       "    </tr>\n",
       "    <tr>\n",
       "      <th>2</th>\n",
       "      <td>model_2</td>\n",
       "      <td>0.341274</td>\n",
       "      <td>0.341254</td>\n",
       "      <td>16656.181873</td>\n",
       "      <td>333393.099001</td>\n",
       "      <td>333431.006246</td>\n",
       "    </tr>\n",
       "    <tr>\n",
       "      <th>3</th>\n",
       "      <td>model_3</td>\n",
       "      <td>0.303509</td>\n",
       "      <td>0.303487</td>\n",
       "      <td>14009.826230</td>\n",
       "      <td>338770.114203</td>\n",
       "      <td>338808.021447</td>\n",
       "    </tr>\n",
       "  </tbody>\n",
       "</table>\n",
       "</div>"
      ],
      "text/plain": [
       "     model       rsq   rsq_adj       f_value            aic            bic\n",
       "1  model_1  0.287818  0.287804  19489.463165  340916.924942  340945.355376\n",
       "2  model_2  0.341274  0.341254  16656.181873  333393.099001  333431.006246\n",
       "3  model_3  0.303509  0.303487  14009.826230  338770.114203  338808.021447"
      ]
     },
     "execution_count": 16,
     "metadata": {},
     "output_type": "execute_result"
    }
   ],
   "source": [
    "def perfstats(col, Y):\n",
    "    pf = pd.DataFrame(columns=['model', 'rsq', 'rsq_adj', 'f_value', 'aic', 'bic'])\n",
    "    for num,X in enumerate(col,1): \n",
    "        model = LinearRegression().fit(X, Y)\n",
    "        X = sm.add_constant(X)\n",
    "        results = sm.OLS(Y, X).fit()\n",
    "        pf.loc[num] = ('model_'+str(num) , results.rsquared, results.rsquared_adj, results.fvalue, results.aic, results.bic)\n",
    "    return pf\n",
    "\n",
    "perfstats(col, Y)"
   ]
  },
  {
   "cell_type": "markdown",
   "metadata": {},
   "source": [
    "- Modeller incelendiğinde etkileşimli (model_2) olanın, varyansın %34'ünü açıkladığı görülmektedir. Bu sayı düşük olmasına rağmen, diğerleri arasında en anlamlısıdır.\n",
    "- model_2 ve model_3'ün 1'e göre f-değerini incelenirse, oluşturulan modeller anlamsızlaşıyor.\n",
    "- AIC ve BIC değerlerine göre en anlamlı 2. model görünüyor."
   ]
  }
 ],
 "metadata": {
  "kernelspec": {
   "display_name": "Python 3",
   "language": "python",
   "name": "python3"
  },
  "language_info": {
   "codemirror_mode": {
    "name": "ipython",
    "version": 3
   },
   "file_extension": ".py",
   "mimetype": "text/x-python",
   "name": "python",
   "nbconvert_exporter": "python",
   "pygments_lexer": "ipython3",
   "version": "3.7.7"
  }
 },
 "nbformat": 4,
 "nbformat_minor": 4
}
