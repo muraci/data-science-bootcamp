{
 "cells": [
  {
   "cell_type": "markdown",
   "metadata": {},
   "source": [
    "- Ev fiyatları veri setini kullanarak, evlerin fiyatlarını tahmin ediniz.\n",
    "- Verileri araştırın ve konut fiyatlarının tahmininde faydalı olacağını düşündüğünüz bazı değişkenleri bulun.\n",
    "- Bu özellikleri kullanarak ilk modelinizi oluşturun ve OLS kullanarak parametreleri tahmin edin."
   ]
  },
  {
   "cell_type": "code",
   "execution_count": 10,
   "metadata": {},
   "outputs": [],
   "source": [
    "%matplotlib inline\n",
    "import numpy as np\n",
    "import pandas as pd\n",
    "from sklearn.linear_model import LinearRegression\n",
    "import statsmodels.api as sm\n",
    "import matplotlib.pyplot as plt\n",
    "import seaborn as sns\n",
    "import warnings\n",
    "warnings.filterwarnings('ignore')\n",
    "sns.set()"
   ]
  },
  {
   "cell_type": "code",
   "execution_count": 11,
   "metadata": {},
   "outputs": [],
   "source": [
    "df = pd.read_csv(\"house.csv\")\n",
    "df_cat = df[df.select_dtypes(include = [\"object\"]).columns]\n",
    "df_num = df[df.select_dtypes(exclude = [\"object\"]).columns]"
   ]
  },
  {
   "cell_type": "code",
   "execution_count": 12,
   "metadata": {},
   "outputs": [],
   "source": [
    "#verilerin temizlenmesi\n",
    "total = df.isnull().sum().sort_values(ascending=False)\n",
    "percent = (df.isnull().sum()/df.isnull().count()).sort_values(ascending=False)\n",
    "missing = pd.concat([total, percent], axis=1, keys=['Total', 'Percent'])\n",
    "missing.head(20)\n",
    "\n",
    "df = df.drop(df.loc[df['Electrical'].isnull()].index)\n",
    "df = df.drop((missing[missing['Total'] > 0]).index,1)"
   ]
  },
  {
   "cell_type": "code",
   "execution_count": 13,
   "metadata": {},
   "outputs": [],
   "source": [
    "#kategorik verinin iki değişkene indirgenmesi \n",
    "df_cat = pd.get_dummies(df_cat)\n",
    "df_all = pd.concat([df_cat,df_num],axis=1)"
   ]
  },
  {
   "cell_type": "code",
   "execution_count": 14,
   "metadata": {},
   "outputs": [],
   "source": [
    "#kolerasyon\n",
    "(df_all.corr().SalePrice[df_all.corr().SalePrice > 0.4]).sort_values(ascending=False)\n",
    "\n",
    "Y = df_all['SalePrice']\n",
    "X = df_all[['OverallQual', 'GrLivArea','GarageCars','GarageArea','TotalBsmtSF','1stFlrSF','FullBath','TotRmsAbvGrd','YearBuilt','YearRemodAdd','KitchenQual_Ex','Foundation_PConc','Fireplaces','ExterQual_Gd','ExterQual_Ex','HeatingQC_Ex','Neighborhood_NridgHt']]"
   ]
  },
  {
   "cell_type": "code",
   "execution_count": 15,
   "metadata": {},
   "outputs": [
    {
     "name": "stdout",
     "output_type": "stream",
     "text": [
      "Değişkenler: [ 1.29309173e+04  4.92352201e+01  1.05960152e+04  1.02169229e+01\n",
      "  1.54199301e+01  7.13074657e+00 -2.93398619e+03 -9.33819464e+02\n",
      "  2.41261067e+02  2.17177533e+02  3.41672570e+04  9.30015188e+02\n",
      "  9.95790319e+03  7.09792609e+03  3.67109343e+04  4.80940434e+03\n",
      "  1.86438895e+04]\n",
      "Sabit Değer: -932656.43248767\n"
     ]
    }
   ],
   "source": [
    "#scikit-learn kütüphanesi üzerinde modelin incelenmesi\n",
    "model = LinearRegression().fit(X, Y)\n",
    "prediction = model.predict(X)\n",
    "print('Değişkenler:', model.coef_)\n",
    "print('Sabit Değer:', model.intercept_)"
   ]
  },
  {
   "cell_type": "code",
   "execution_count": 16,
   "metadata": {},
   "outputs": [
    {
     "data": {
      "text/html": [
       "<table class=\"simpletable\">\n",
       "<caption>OLS Regression Results</caption>\n",
       "<tr>\n",
       "  <th>Dep. Variable:</th>        <td>SalePrice</td>    <th>  R-squared:         </th> <td>   0.805</td> \n",
       "</tr>\n",
       "<tr>\n",
       "  <th>Model:</th>                   <td>OLS</td>       <th>  Adj. R-squared:    </th> <td>   0.803</td> \n",
       "</tr>\n",
       "<tr>\n",
       "  <th>Method:</th>             <td>Least Squares</td>  <th>  F-statistic:       </th> <td>   351.2</td> \n",
       "</tr>\n",
       "<tr>\n",
       "  <th>Date:</th>             <td>Tue, 31 Mar 2020</td> <th>  Prob (F-statistic):</th>  <td>  0.00</td>  \n",
       "</tr>\n",
       "<tr>\n",
       "  <th>Time:</th>                 <td>23:19:26</td>     <th>  Log-Likelihood:    </th> <td> -17349.</td> \n",
       "</tr>\n",
       "<tr>\n",
       "  <th>No. Observations:</th>      <td>  1460</td>      <th>  AIC:               </th> <td>3.473e+04</td>\n",
       "</tr>\n",
       "<tr>\n",
       "  <th>Df Residuals:</th>          <td>  1442</td>      <th>  BIC:               </th> <td>3.483e+04</td>\n",
       "</tr>\n",
       "<tr>\n",
       "  <th>Df Model:</th>              <td>    17</td>      <th>                     </th>     <td> </td>    \n",
       "</tr>\n",
       "<tr>\n",
       "  <th>Covariance Type:</th>      <td>nonrobust</td>    <th>                     </th>     <td> </td>    \n",
       "</tr>\n",
       "</table>\n",
       "<table class=\"simpletable\">\n",
       "<tr>\n",
       "            <td></td>              <th>coef</th>     <th>std err</th>      <th>t</th>      <th>P>|t|</th>  <th>[0.025</th>    <th>0.975]</th>  \n",
       "</tr>\n",
       "<tr>\n",
       "  <th>const</th>                <td>-9.327e+05</td> <td> 1.41e+05</td> <td>   -6.626</td> <td> 0.000</td> <td>-1.21e+06</td> <td>-6.57e+05</td>\n",
       "</tr>\n",
       "<tr>\n",
       "  <th>OverallQual</th>          <td> 1.293e+04</td> <td> 1226.027</td> <td>   10.547</td> <td> 0.000</td> <td> 1.05e+04</td> <td> 1.53e+04</td>\n",
       "</tr>\n",
       "<tr>\n",
       "  <th>GrLivArea</th>            <td>   49.2352</td> <td>    4.098</td> <td>   12.014</td> <td> 0.000</td> <td>   41.196</td> <td>   57.274</td>\n",
       "</tr>\n",
       "<tr>\n",
       "  <th>GarageCars</th>           <td>  1.06e+04</td> <td> 2858.719</td> <td>    3.707</td> <td> 0.000</td> <td> 4988.323</td> <td> 1.62e+04</td>\n",
       "</tr>\n",
       "<tr>\n",
       "  <th>GarageArea</th>           <td>   10.2169</td> <td>    9.698</td> <td>    1.053</td> <td> 0.292</td> <td>   -8.807</td> <td>   29.241</td>\n",
       "</tr>\n",
       "<tr>\n",
       "  <th>TotalBsmtSF</th>          <td>   15.4199</td> <td>    4.028</td> <td>    3.829</td> <td> 0.000</td> <td>    7.520</td> <td>   23.320</td>\n",
       "</tr>\n",
       "<tr>\n",
       "  <th>1stFlrSF</th>             <td>    7.1307</td> <td>    4.698</td> <td>    1.518</td> <td> 0.129</td> <td>   -2.084</td> <td>   16.346</td>\n",
       "</tr>\n",
       "<tr>\n",
       "  <th>FullBath</th>             <td>-2933.9862</td> <td> 2536.426</td> <td>   -1.157</td> <td> 0.248</td> <td>-7909.467</td> <td> 2041.494</td>\n",
       "</tr>\n",
       "<tr>\n",
       "  <th>TotRmsAbvGrd</th>         <td> -933.8195</td> <td> 1056.411</td> <td>   -0.884</td> <td> 0.377</td> <td>-3006.086</td> <td> 1138.447</td>\n",
       "</tr>\n",
       "<tr>\n",
       "  <th>YearBuilt</th>            <td>  241.2611</td> <td>   50.072</td> <td>    4.818</td> <td> 0.000</td> <td>  143.039</td> <td>  339.483</td>\n",
       "</tr>\n",
       "<tr>\n",
       "  <th>YearRemodAdd</th>         <td>  217.1775</td> <td>   63.069</td> <td>    3.443</td> <td> 0.001</td> <td>   93.461</td> <td>  340.894</td>\n",
       "</tr>\n",
       "<tr>\n",
       "  <th>KitchenQual_Ex</th>       <td> 3.417e+04</td> <td> 4734.345</td> <td>    7.217</td> <td> 0.000</td> <td> 2.49e+04</td> <td> 4.35e+04</td>\n",
       "</tr>\n",
       "<tr>\n",
       "  <th>Foundation_PConc</th>     <td>  930.0152</td> <td> 2843.258</td> <td>    0.327</td> <td> 0.744</td> <td>-4647.349</td> <td> 6507.380</td>\n",
       "</tr>\n",
       "<tr>\n",
       "  <th>Fireplaces</th>           <td> 9957.9032</td> <td> 1712.062</td> <td>    5.816</td> <td> 0.000</td> <td> 6599.505</td> <td> 1.33e+04</td>\n",
       "</tr>\n",
       "<tr>\n",
       "  <th>ExterQual_Gd</th>         <td> 7097.9261</td> <td> 3091.614</td> <td>    2.296</td> <td> 0.022</td> <td> 1033.384</td> <td> 1.32e+04</td>\n",
       "</tr>\n",
       "<tr>\n",
       "  <th>ExterQual_Ex</th>         <td> 3.671e+04</td> <td> 7077.815</td> <td>    5.187</td> <td> 0.000</td> <td> 2.28e+04</td> <td> 5.06e+04</td>\n",
       "</tr>\n",
       "<tr>\n",
       "  <th>HeatingQC_Ex</th>         <td> 4809.4043</td> <td> 2364.048</td> <td>    2.034</td> <td> 0.042</td> <td>  172.062</td> <td> 9446.747</td>\n",
       "</tr>\n",
       "<tr>\n",
       "  <th>Neighborhood_NridgHt</th> <td> 1.864e+04</td> <td> 4863.412</td> <td>    3.833</td> <td> 0.000</td> <td> 9103.769</td> <td> 2.82e+04</td>\n",
       "</tr>\n",
       "</table>\n",
       "<table class=\"simpletable\">\n",
       "<tr>\n",
       "  <th>Omnibus:</th>       <td>658.066</td> <th>  Durbin-Watson:     </th> <td>   2.010</td> \n",
       "</tr>\n",
       "<tr>\n",
       "  <th>Prob(Omnibus):</th> <td> 0.000</td>  <th>  Jarque-Bera (JB):  </th> <td>94966.443</td>\n",
       "</tr>\n",
       "<tr>\n",
       "  <th>Skew:</th>          <td>-1.034</td>  <th>  Prob(JB):          </th> <td>    0.00</td> \n",
       "</tr>\n",
       "<tr>\n",
       "  <th>Kurtosis:</th>      <td>42.457</td>  <th>  Cond. No.          </th> <td>5.50e+05</td> \n",
       "</tr>\n",
       "</table><br/><br/>Warnings:<br/>[1] Standard Errors assume that the covariance matrix of the errors is correctly specified.<br/>[2] The condition number is large, 5.5e+05. This might indicate that there are<br/>strong multicollinearity or other numerical problems."
      ],
      "text/plain": [
       "<class 'statsmodels.iolib.summary.Summary'>\n",
       "\"\"\"\n",
       "                            OLS Regression Results                            \n",
       "==============================================================================\n",
       "Dep. Variable:              SalePrice   R-squared:                       0.805\n",
       "Model:                            OLS   Adj. R-squared:                  0.803\n",
       "Method:                 Least Squares   F-statistic:                     351.2\n",
       "Date:                Tue, 31 Mar 2020   Prob (F-statistic):               0.00\n",
       "Time:                        23:19:26   Log-Likelihood:                -17349.\n",
       "No. Observations:                1460   AIC:                         3.473e+04\n",
       "Df Residuals:                    1442   BIC:                         3.483e+04\n",
       "Df Model:                          17                                         \n",
       "Covariance Type:            nonrobust                                         \n",
       "========================================================================================\n",
       "                           coef    std err          t      P>|t|      [0.025      0.975]\n",
       "----------------------------------------------------------------------------------------\n",
       "const                -9.327e+05   1.41e+05     -6.626      0.000   -1.21e+06   -6.57e+05\n",
       "OverallQual           1.293e+04   1226.027     10.547      0.000    1.05e+04    1.53e+04\n",
       "GrLivArea               49.2352      4.098     12.014      0.000      41.196      57.274\n",
       "GarageCars             1.06e+04   2858.719      3.707      0.000    4988.323    1.62e+04\n",
       "GarageArea              10.2169      9.698      1.053      0.292      -8.807      29.241\n",
       "TotalBsmtSF             15.4199      4.028      3.829      0.000       7.520      23.320\n",
       "1stFlrSF                 7.1307      4.698      1.518      0.129      -2.084      16.346\n",
       "FullBath             -2933.9862   2536.426     -1.157      0.248   -7909.467    2041.494\n",
       "TotRmsAbvGrd          -933.8195   1056.411     -0.884      0.377   -3006.086    1138.447\n",
       "YearBuilt              241.2611     50.072      4.818      0.000     143.039     339.483\n",
       "YearRemodAdd           217.1775     63.069      3.443      0.001      93.461     340.894\n",
       "KitchenQual_Ex        3.417e+04   4734.345      7.217      0.000    2.49e+04    4.35e+04\n",
       "Foundation_PConc       930.0152   2843.258      0.327      0.744   -4647.349    6507.380\n",
       "Fireplaces            9957.9032   1712.062      5.816      0.000    6599.505    1.33e+04\n",
       "ExterQual_Gd          7097.9261   3091.614      2.296      0.022    1033.384    1.32e+04\n",
       "ExterQual_Ex          3.671e+04   7077.815      5.187      0.000    2.28e+04    5.06e+04\n",
       "HeatingQC_Ex          4809.4043   2364.048      2.034      0.042     172.062    9446.747\n",
       "Neighborhood_NridgHt  1.864e+04   4863.412      3.833      0.000    9103.769    2.82e+04\n",
       "==============================================================================\n",
       "Omnibus:                      658.066   Durbin-Watson:                   2.010\n",
       "Prob(Omnibus):                  0.000   Jarque-Bera (JB):            94966.443\n",
       "Skew:                          -1.034   Prob(JB):                         0.00\n",
       "Kurtosis:                      42.457   Cond. No.                     5.50e+05\n",
       "==============================================================================\n",
       "\n",
       "Warnings:\n",
       "[1] Standard Errors assume that the covariance matrix of the errors is correctly specified.\n",
       "[2] The condition number is large, 5.5e+05. This might indicate that there are\n",
       "strong multicollinearity or other numerical problems.\n",
       "\"\"\""
      ]
     },
     "execution_count": 16,
     "metadata": {},
     "output_type": "execute_result"
    }
   ],
   "source": [
    "#statsmodels kütüphanesi üzerinde modelin incelenmesi\n",
    "X = sm.add_constant(X)\n",
    "results = sm.OLS(Y, X).fit()\n",
    "results.summary()"
   ]
  },
  {
   "cell_type": "code",
   "execution_count": null,
   "metadata": {},
   "outputs": [],
   "source": []
  }
 ],
 "metadata": {
  "kernelspec": {
   "display_name": "Python 3",
   "language": "python",
   "name": "python3"
  },
  "language_info": {
   "codemirror_mode": {
    "name": "ipython",
    "version": 3
   },
   "file_extension": ".py",
   "mimetype": "text/x-python",
   "name": "python",
   "nbconvert_exporter": "python",
   "pygments_lexer": "ipython3",
   "version": "3.7.7"
  }
 },
 "nbformat": 4,
 "nbformat_minor": 4
}
