{
 "cells": [
  {
   "cell_type": "markdown",
   "metadata": {},
   "source": [
    "#### _Ev Fiyatları_\n",
    "- _Önceki dersteki modelinizi yeniden uygulayın._\n",
    "- _Aynı model tanımını kullanarak OLS, Lasso, Ridge ve ElasticNet regresyonlarını deneyin. Bu kez, modelleriniz için en iyi hiperparametre değerlerini seçmek için k-fold çapraz doğrulama yapmanız gerekir. Hangi model en iyisidir? Açıklayın?_"
   ]
  },
  {
   "cell_type": "markdown",
   "metadata": {},
   "source": [
    "> Önceki ödevin üzerinden devam edilmiştir."
   ]
  },
  {
   "cell_type": "code",
   "execution_count": 10,
   "metadata": {},
   "outputs": [],
   "source": [
    "Y = ev['SalePrice']\n",
    "X = ev[['OverallQual', 'GrLivArea', 'GarageArea', 'TotalBsmtSF', '1stFlrSF', \n",
    "         'HeatingQC_TA', 'Foundation_CBlock', 'KitchenQual_TA', 'ExterQual_TA']]\n",
    "\n",
    "X = [pd.concat([X**i for i in range(1,21)], axis=1)]"
   ]
  },
  {
   "cell_type": "code",
   "execution_count": 13,
   "metadata": {},
   "outputs": [],
   "source": [
    "def regstats(col, Y, perc, regType):  #'ols', 'ridge', 'lasso', 'elasticnet'\n",
    "    \n",
    "    pf = pd.DataFrame(columns=['model', 'rsq_train', 'rsq_test', 'subt_rsq', 'mae_test', 'mse_test', 'rmse_test', 'mape_test']) \n",
    "    pd.options.display.float_format = '{:.3f}'.format\n",
    "    \n",
    "    \n",
    "    for num,X in enumerate(col,1): \n",
    "        x_train, x_test, y_train, y_test = train_test_split(X, Y, test_size = perc, random_state = 42)\n",
    "        \n",
    "        if str(regType) == 'ols':\n",
    "            results = LinearRegression().fit(x_train, y_train)\n",
    "        elif str(regType) == 'ridge':\n",
    "            results = Ridge(alpha=10**37).fit(x_train, y_train)\n",
    "        elif str(regType) == 'lasso':\n",
    "            results = Lasso(alpha=10**20.5).fit(x_train, y_train)\n",
    "        elif str(regType) == 'elasticnet':\n",
    "            results = ElasticNet(alpha=10**21, l1_ratio=0.5).fit(x_train, y_train)\n",
    "\n",
    "        y_pred = results.predict(x_test)\n",
    "        \n",
    "        pf.loc[num] = (str(num)+'_'+regType,\n",
    "                       results.score(x_train, y_train),\n",
    "                       results.score(x_test, y_test),\n",
    "                       results.score(x_train, y_train) - results.score(x_test, y_test),\n",
    "                       mean_absolute_error(y_test, y_pred), \n",
    "                       mse(y_test, y_pred), \n",
    "                       rmse(y_test, y_pred), \n",
    "                       (np.mean(np.abs((y_test - y_pred) / y_test)) * 100))\n",
    "    return pf"
   ]
  },
  {
   "cell_type": "code",
   "execution_count": 14,
   "metadata": {},
   "outputs": [
    {
     "data": {
      "text/html": [
       "<div>\n",
       "<style scoped>\n",
       "    .dataframe tbody tr th:only-of-type {\n",
       "        vertical-align: middle;\n",
       "    }\n",
       "\n",
       "    .dataframe tbody tr th {\n",
       "        vertical-align: top;\n",
       "    }\n",
       "\n",
       "    .dataframe thead th {\n",
       "        text-align: right;\n",
       "    }\n",
       "</style>\n",
       "<table border=\"1\" class=\"dataframe\">\n",
       "  <thead>\n",
       "    <tr style=\"text-align: right;\">\n",
       "      <th></th>\n",
       "      <th>model</th>\n",
       "      <th>rsq_train</th>\n",
       "      <th>rsq_test</th>\n",
       "      <th>subt_rsq</th>\n",
       "      <th>mae_test</th>\n",
       "      <th>mse_test</th>\n",
       "      <th>rmse_test</th>\n",
       "      <th>mape_test</th>\n",
       "    </tr>\n",
       "  </thead>\n",
       "  <tbody>\n",
       "    <tr>\n",
       "      <th>0</th>\n",
       "      <td>1_ols</td>\n",
       "      <td>0.849</td>\n",
       "      <td>0.787</td>\n",
       "      <td>0.062</td>\n",
       "      <td>23284.609</td>\n",
       "      <td>1152463270.546</td>\n",
       "      <td>33947.949</td>\n",
       "      <td>14.119</td>\n",
       "    </tr>\n",
       "    <tr>\n",
       "      <th>1</th>\n",
       "      <td>1_ridge</td>\n",
       "      <td>0.348</td>\n",
       "      <td>0.087</td>\n",
       "      <td>0.261</td>\n",
       "      <td>54005.108</td>\n",
       "      <td>4931923136.737</td>\n",
       "      <td>70227.652</td>\n",
       "      <td>35.919</td>\n",
       "    </tr>\n",
       "    <tr>\n",
       "      <th>2</th>\n",
       "      <td>1_lasso</td>\n",
       "      <td>0.611</td>\n",
       "      <td>0.506</td>\n",
       "      <td>0.105</td>\n",
       "      <td>39306.834</td>\n",
       "      <td>2670936473.057</td>\n",
       "      <td>51681.104</td>\n",
       "      <td>27.742</td>\n",
       "    </tr>\n",
       "    <tr>\n",
       "      <th>3</th>\n",
       "      <td>1_elasticnet</td>\n",
       "      <td>0.569</td>\n",
       "      <td>0.438</td>\n",
       "      <td>0.131</td>\n",
       "      <td>42500.494</td>\n",
       "      <td>3037809500.475</td>\n",
       "      <td>55116.327</td>\n",
       "      <td>29.576</td>\n",
       "    </tr>\n",
       "  </tbody>\n",
       "</table>\n",
       "</div>"
      ],
      "text/plain": [
       "          model  rsq_train  rsq_test  subt_rsq  mae_test       mse_test  \\\n",
       "0         1_ols      0.849     0.787     0.062 23284.609 1152463270.546   \n",
       "1       1_ridge      0.348     0.087     0.261 54005.108 4931923136.737   \n",
       "2       1_lasso      0.611     0.506     0.105 39306.834 2670936473.057   \n",
       "3  1_elasticnet      0.569     0.438     0.131 42500.494 3037809500.475   \n",
       "\n",
       "   rmse_test  mape_test  \n",
       "0  33947.949     14.119  \n",
       "1  70227.652     35.919  \n",
       "2  51681.104     27.742  \n",
       "3  55116.327     29.576  "
      ]
     },
     "execution_count": 14,
     "metadata": {},
     "output_type": "execute_result"
    }
   ],
   "source": [
    "dfstats = pd.concat([regstats(X, Y, 0.2, 'ols'),\n",
    "                     regstats(X, Y, 0.2, 'ridge'),\n",
    "                     regstats(X, Y, 0.2, 'lasso'),\n",
    "                     regstats(X, Y, 0.2, 'elasticnet')],\n",
    "                     axis=0,ignore_index=True)\n",
    "dfstats"
   ]
  },
  {
   "cell_type": "markdown",
   "metadata": {},
   "source": [
    "- Modelin kapasitesi düşük olduğundan, açıklanırken zorlanıldı. Bu sebeple model kapasitesi X^21 ile artırıldı.\n",
    "- Ridge modelinde r-sq değeri, aradaki farktan dolayı en ideal olanıdır.\n",
    "- alpha değerleri azaltılırsa, daha uygun sonuçlar alınmaktadır. çapraz doğrulama?"
   ]
  }
 ],
 "metadata": {
  "kernelspec": {
   "display_name": "Python 3",
   "language": "python",
   "name": "python3"
  },
  "language_info": {
   "codemirror_mode": {
    "name": "ipython",
    "version": 3
   },
   "file_extension": ".py",
   "mimetype": "text/x-python",
   "name": "python",
   "nbconvert_exporter": "python",
   "pygments_lexer": "ipython3",
   "version": "3.7.7"
  }
 },
 "nbformat": 4,
 "nbformat_minor": 4
}
